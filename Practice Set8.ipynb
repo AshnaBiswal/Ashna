{
 "cells": [
  {
   "cell_type": "code",
   "execution_count": 2,
   "id": "bcdae5fc",
   "metadata": {},
   "outputs": [
    {
     "name": "stdout",
     "output_type": "stream",
     "text": [
      "{'a': 1, 'e': 2, 'i': 1, 'o': 1, 'u': 0}\n"
     ]
    }
   ],
   "source": [
    "#Python Program to Count the Number of Each Vowel Using a list and a dictionary comprehension.\n",
    "n=\"PythON IS very easy\"\n",
    "v=\"aeiou\"\n",
    "n=n.lower()\n",
    "d={i:sum(1 for j in n if i==j)for i in v}\n",
    "print(d)"
   ]
  },
  {
   "cell_type": "code",
   "execution_count": 6,
   "id": "af7be217",
   "metadata": {},
   "outputs": [
    {
     "name": "stdout",
     "output_type": "stream",
     "text": [
      "The indices are: [2, 3]\n"
     ]
    }
   ],
   "source": [
    "#Python Program Given an array of integers, return indices of the two numbers such that they add up to a specific target.\n",
    "def tar(n,t):\n",
    "    for i in n:\n",
    "        for j in n:\n",
    "            if i+j==t:\n",
    "                return [n.index(i),n.index(j)]\n",
    "            \n",
    "print(\"The indices are:\",tar([2,7,11,15],26))          "
   ]
  },
  {
   "cell_type": "code",
   "execution_count": 7,
   "id": "977da069",
   "metadata": {},
   "outputs": [
    {
     "name": "stdout",
     "output_type": "stream",
     "text": [
      "n1 is alphanumeric: True\n",
      "n2 is alphanumeric: False\n"
     ]
    }
   ],
   "source": [
    "# check if all char are alphanumeric.\n",
    "n1=\"a1b2c3d4e5\"\n",
    "n2=\"1.2345\"\n",
    "print(\"n1 is alphanumeric:\",n1.isalnum())\n",
    "print(\"n2 is alphanumeric:\",n2.isalnum())"
   ]
  },
  {
   "cell_type": "code",
   "execution_count": 9,
   "id": "f4888548",
   "metadata": {},
   "outputs": [
    {
     "name": "stdout",
     "output_type": "stream",
     "text": [
      "[11, 12, 22, 25, 34, 64, 90]\n"
     ]
    }
   ],
   "source": [
    "# Bubble sort in python.\n",
    "n = [64, 34, 25, 12, 22, 11, 90]\n",
    "for i in range(len(n)-1):\n",
    "    for j in range(len(n)-1):\n",
    "        if n[i]<n[j]:\n",
    "            temp=n[i]\n",
    "            n[i]=n[j]\n",
    "            n[j]=temp\n",
    "print(n)               "
   ]
  },
  {
   "cell_type": "code",
   "execution_count": 10,
   "id": "12a9e081",
   "metadata": {},
   "outputs": [
    {
     "name": "stdout",
     "output_type": "stream",
     "text": [
      "1 * 3 = 3\n",
      "1 * 2 = 2\n",
      "1 * 9 = 9\n",
      "\n",
      "2 * 3 = 6\n",
      "2 * 2 = 4\n",
      "2 * 9 = 18\n",
      "\n",
      "3 * 3 = 9\n",
      "3 * 2 = 6\n",
      "3 * 9 = 27\n",
      "\n"
     ]
    }
   ],
   "source": [
    "# Compute the product of every pair of numbers from two lists.\n",
    "n1=[1,2,3]\n",
    "n2=[3,2,9]\n",
    "for i in range(len(n1)):\n",
    "    for j in range(len(n2)):\n",
    "        k=n1[i]*n2[j]\n",
    "        print(n1[i],\"*\",n2[j],\"=\",k)\n",
    "    print()"
   ]
  },
  {
   "cell_type": "code",
   "execution_count": 11,
   "id": "e9c3ff7f",
   "metadata": {},
   "outputs": [
    {
     "name": "stdout",
     "output_type": "stream",
     "text": [
      "1 + 3 = 4\n",
      "1 + 2 = 3\n",
      "1 + 9 = 10\n",
      "\n",
      "2 + 3 = 5\n",
      "2 + 2 = 4\n",
      "2 + 9 = 11\n",
      "\n",
      "3 + 3 = 6\n",
      "3 + 2 = 5\n",
      "3 + 9 = 12\n",
      "\n"
     ]
    }
   ],
   "source": [
    "# Calculate the sum of every pair of numbers from two lists.\n",
    "n1=[1,2,3]\n",
    "n2=[3,2,9]\n",
    "for i in range(len(n1)):\n",
    "    for j in range(len(n2)):\n",
    "        k=n1[i]+n2[j]\n",
    "        print(n1[i],\"+\",n2[j],\"=\",k)\n",
    "    print()"
   ]
  },
  {
   "cell_type": "code",
   "execution_count": 12,
   "id": "c92574d5",
   "metadata": {},
   "outputs": [
    {
     "name": "stdout",
     "output_type": "stream",
     "text": [
      "New list after pair-wise product: [3, 4, 27]\n"
     ]
    }
   ],
   "source": [
    "# Calculate the pair-wise product of two lists.\n",
    "n1=[1,2,3]\n",
    "n2=[3,2,9]\n",
    "m=[]\n",
    "for i in range(len(n1)):\n",
    "    k=n1[i]*n2[i]\n",
    "    m.append(k)\n",
    "print(\"New list after pair-wise product:\",m)   "
   ]
  },
  {
   "cell_type": "code",
   "execution_count": 14,
   "id": "4afece59",
   "metadata": {},
   "outputs": [
    {
     "name": "stdout",
     "output_type": "stream",
     "text": [
      "5\n",
      "1\n",
      "2\n",
      "3\n",
      "4\n",
      "5\n",
      "Original stack: [1, 2, 3, 4, 5]\n",
      "After removing last element [1, 2, 3, 4]\n"
     ]
    }
   ],
   "source": [
    "# Remove the last element from the stack.\n",
    "stack=[]\n",
    "n=int(input())\n",
    "for i in range(n):\n",
    "    k=int(input())\n",
    "    stack.append(k)\n",
    "print(\"Original stack:\",stack)\n",
    "stack.pop()\n",
    "print(\"After removing last element\",stack)"
   ]
  },
  {
   "cell_type": "code",
   "execution_count": 15,
   "id": "df8b3678",
   "metadata": {},
   "outputs": [
    {
     "name": "stdout",
     "output_type": "stream",
     "text": [
      "The vectors are :\n",
      " A: [3, 5, -5, 8] \n",
      " B: [4, 7, 9, -4]\n",
      "After addition the resulting vector is : [7, 12, 4, 4]\n"
     ]
    }
   ],
   "source": [
    "# Addition of two vector.\n",
    "A = [3, 5, -5, 8]\n",
    "B = [4, 7, 9, -4]\n",
    "res=[]\n",
    "print(\"The vectors are :\\n\",\"A:\",A ,\"\\n\",\"B:\",B)\n",
    "for i in range(len(A)):\n",
    "    k=A[i]+B[i]\n",
    "    res.append(k)\n",
    "print(\"After addition the resulting vector is :\",res)"
   ]
  },
  {
   "cell_type": "code",
   "execution_count": 16,
   "id": "8c64d878",
   "metadata": {},
   "outputs": [
    {
     "data": {
      "text/plain": [
       "[788.9, 456.0, 0, 234.89, 0]"
      ]
     },
     "execution_count": 16,
     "metadata": {},
     "output_type": "execute_result"
    }
   ],
   "source": [
    "# Replace negative prices with 0 and leave the positive values unchanged in a list\n",
    "n=[788.90,456.0,-79,234.89,-468.876]\n",
    "for i in range(len(n)):\n",
    "    if n[i]<0:\n",
    "        n[i]=0\n",
    "n        "
   ]
  }
 ],
 "metadata": {
  "kernelspec": {
   "display_name": "Python 3",
   "language": "python",
   "name": "python3"
  },
  "language_info": {
   "codemirror_mode": {
    "name": "ipython",
    "version": 3
   },
   "file_extension": ".py",
   "mimetype": "text/x-python",
   "name": "python",
   "nbconvert_exporter": "python",
   "pygments_lexer": "ipython3",
   "version": "3.8.8"
  }
 },
 "nbformat": 4,
 "nbformat_minor": 5
}
