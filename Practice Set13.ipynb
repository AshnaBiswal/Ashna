{
 "cells": [
  {
   "cell_type": "code",
   "execution_count": 2,
   "id": "dec5b326",
   "metadata": {},
   "outputs": [
    {
     "name": "stdout",
     "output_type": "stream",
     "text": [
      "wht s yr nm ?\n"
     ]
    }
   ],
   "source": [
    "#python function to strip vowels from a string.\n",
    "n= \"what is your name ?\"\n",
    "n=n.lower()\n",
    "m=\"aeiou\"\n",
    "q=\"\"\n",
    "for i in n:\n",
    "    if i not in m:\n",
    "        q=q+i\n",
    "print(q)        "
   ]
  },
  {
   "cell_type": "code",
   "execution_count": 4,
   "id": "3072f125",
   "metadata": {},
   "outputs": [
    {
     "name": "stdout",
     "output_type": "stream",
     "text": [
      "0 1\n"
     ]
    }
   ],
   "source": [
    "#python function to create adders.\n",
    "a=1\n",
    "b=1\n",
    "sum=a^b\n",
    "cout=a and b\n",
    "print(sum,cout)"
   ]
  },
  {
   "cell_type": "code",
   "execution_count": 5,
   "id": "8979c421",
   "metadata": {},
   "outputs": [
    {
     "name": "stdout",
     "output_type": "stream",
     "text": [
      "area: 3.14\n"
     ]
    }
   ],
   "source": [
    "#python function to find the area of a circle.\n",
    "r=1\n",
    "print(\"area:\",3.14*r*r)"
   ]
  },
  {
   "cell_type": "code",
   "execution_count": 6,
   "id": "d9f881e2",
   "metadata": {},
   "outputs": [
    {
     "name": "stdout",
     "output_type": "stream",
     "text": [
      "sum: 55\n"
     ]
    }
   ],
   "source": [
    "#python program for the sum of first n numbers.\n",
    "n=10\n",
    "sum=0\n",
    "for i in range(n+1):\n",
    "    sum+=i\n",
    "print(\"sum:\",sum)    "
   ]
  },
  {
   "cell_type": "code",
   "execution_count": 8,
   "id": "55364212",
   "metadata": {},
   "outputs": [
    {
     "data": {
      "text/plain": [
       "[3, 16, 108]"
      ]
     },
     "execution_count": 8,
     "metadata": {},
     "output_type": "execute_result"
    }
   ],
   "source": [
    "#Python Program to Add two Lists.\n",
    "n=[1,9,9]\n",
    "m=[2,7,99,4]\n",
    "q=[]\n",
    "l=min(len(m),len(n))\n",
    "q=[n[i]+m[i] for i in range(l)]\n",
    "q"
   ]
  }
 ],
 "metadata": {
  "kernelspec": {
   "display_name": "Python 3",
   "language": "python",
   "name": "python3"
  },
  "language_info": {
   "codemirror_mode": {
    "name": "ipython",
    "version": 3
   },
   "file_extension": ".py",
   "mimetype": "text/x-python",
   "name": "python",
   "nbconvert_exporter": "python",
   "pygments_lexer": "ipython3",
   "version": "3.8.8"
  }
 },
 "nbformat": 4,
 "nbformat_minor": 5
}
