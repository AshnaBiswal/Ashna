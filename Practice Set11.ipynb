{
 "cells": [
  {
   "cell_type": "code",
   "execution_count": 2,
   "id": "ae474162",
   "metadata": {},
   "outputs": [
    {
     "name": "stdout",
     "output_type": "stream",
     "text": [
      "After removing common elements from first set: {3} {1, 2}\n"
     ]
    }
   ],
   "source": [
    "# Given a two sets find the intersection and remove those elements from the first set.\n",
    "n={1,2,3}\n",
    "m={3,4,5}\n",
    "k=n.intersection(m)\n",
    "n=n-m\n",
    "print(\"After removing common elements from first set:\",k,n)"
   ]
  },
  {
   "cell_type": "code",
   "execution_count": 3,
   "id": "54387323",
   "metadata": {},
   "outputs": [
    {
     "name": "stdout",
     "output_type": "stream",
     "text": [
      "After merging 2 dictionaries: {'a': 8, 'k': 9}\n"
     ]
    }
   ],
   "source": [
    "# Merge two dictionaries in a single expression.\n",
    "d={\"a\":8}\n",
    "h={\"k\":9}\n",
    "d.update(h)\n",
    "print(\"After merging 2 dictionaries:\",d)"
   ]
  },
  {
   "cell_type": "code",
   "execution_count": 4,
   "id": "beb18c1a",
   "metadata": {},
   "outputs": [
    {
     "name": "stdout",
     "output_type": "stream",
     "text": [
      "original tuple: (1, 2, 3)\n",
      "modified tuple: (1, 7, 3)\n"
     ]
    }
   ],
   "source": [
    "#python function to modify a tuple.\n",
    "n=(1,2,3)\n",
    "print(\"original tuple:\",n)\n",
    "m=list(n)\n",
    "m[1]=7\n",
    "n=tuple(m)\n",
    "print(\"modified tuple:\",n)"
   ]
  },
  {
   "cell_type": "code",
   "execution_count": 5,
   "id": "b0d2e9a9",
   "metadata": {},
   "outputs": [
    {
     "name": "stdout",
     "output_type": "stream",
     "text": [
      "Random id using uuid1() is : be0d1d30-db61-11eb-947a-84fdd1712856\n"
     ]
    }
   ],
   "source": [
    "# Generate random Universally unique IDs.\n",
    "import uuid\n",
    "print (\"Random id using uuid1() is : \",end=\"\")\n",
    "print (uuid.uuid1())"
   ]
  },
  {
   "cell_type": "code",
   "execution_count": 6,
   "id": "53103074",
   "metadata": {},
   "outputs": [
    {
     "name": "stdout",
     "output_type": "stream",
     "text": [
      "After converting string into a datetime object: 2021-08-01 21:28:02\n"
     ]
    }
   ],
   "source": [
    "# Convert string into a datetime object.\n",
    "import datetime\n",
    "d=\"Sat Aug 1 21:28:02 2021\"\n",
    "format='%a %b %d %H:%M:%S %Y'\n",
    "k=datetime.datetime.strptime(d,format)\n",
    "print(\"After converting string into a datetime object:\",k)"
   ]
  },
  {
   "cell_type": "code",
   "execution_count": 9,
   "id": "181b6fd3",
   "metadata": {},
   "outputs": [
    {
     "name": "stdout",
     "output_type": "stream",
     "text": [
      "After Subtracting a week from a given date: 2021-08-01\n"
     ]
    }
   ],
   "source": [
    "# Subtract a week from a given date.\n",
    "d=datetime.date(2021, 8, 8)\n",
    "v=datetime.timedelta(7)\n",
    "k=d-v\n",
    "print(\"After Subtracting a week from a given date:\",k)"
   ]
  }
 ],
 "metadata": {
  "kernelspec": {
   "display_name": "Python 3",
   "language": "python",
   "name": "python3"
  },
  "language_info": {
   "codemirror_mode": {
    "name": "ipython",
    "version": 3
   },
   "file_extension": ".py",
   "mimetype": "text/x-python",
   "name": "python",
   "nbconvert_exporter": "python",
   "pygments_lexer": "ipython3",
   "version": "3.8.8"
  }
 },
 "nbformat": 4,
 "nbformat_minor": 5
}
