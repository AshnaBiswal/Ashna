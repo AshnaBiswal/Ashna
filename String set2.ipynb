{
 "cells": [
  {
   "cell_type": "code",
   "execution_count": 1,
   "id": "dd1d595a",
   "metadata": {},
   "outputs": [
    {
     "name": "stdout",
     "output_type": "stream",
     "text": [
      "n1 is alphanumeric: True\n",
      "n2 is alphanumeric: False\n"
     ]
    }
   ],
   "source": [
    "# check if all char are alphanumeric.\n",
    "n1=\"a1b2c3d4e5\"\n",
    "n2=\"1.2345\"\n",
    "print(\"n1 is alphanumeric:\",n1.isalnum())\n",
    "print(\"n2 is alphanumeric:\",n2.isalnum())"
   ]
  },
  {
   "cell_type": "code",
   "execution_count": 2,
   "id": "9f3a35aa",
   "metadata": {},
   "outputs": [
    {
     "name": "stdout",
     "output_type": "stream",
     "text": [
      "n1 is alphabetic string: False\n",
      "n2 is alphabetic string: True\n"
     ]
    }
   ],
   "source": [
    "# check if all char in the string are alphabetic.\n",
    "n1=\"a1b2c3d4e5\"\n",
    "n2=\"abc\"\n",
    "print(\"n1 is alphabetic string:\",n1.isalpha())\n",
    "print(\"n2 is alphabetic string:\",n2.isalpha())"
   ]
  },
  {
   "cell_type": "code",
   "execution_count": 3,
   "id": "bef5b691",
   "metadata": {},
   "outputs": [
    {
     "name": "stdout",
     "output_type": "stream",
     "text": [
      "n1 is numeric string: True\n",
      "n2 is numeric string: False\n"
     ]
    }
   ],
   "source": [
    "# test if string contains digits.\n",
    "n1=\"456\"\n",
    "n2=\"a1b2c3d4e5\"\n",
    "print(\"n1 is numeric string:\",n1.isnumeric())\n",
    "print(\"n2 is numeric string:\",n2.isnumeric())"
   ]
  },
  {
   "cell_type": "code",
   "execution_count": 5,
   "id": "0e20dc16",
   "metadata": {},
   "outputs": [
    {
     "name": "stdout",
     "output_type": "stream",
     "text": [
      "YES,it contains upper case.\n"
     ]
    }
   ],
   "source": [
    "# Test if string contains upper case.\n",
    "n=\"PythON\"\n",
    "for i in n:\n",
    "    q=ord(i)\n",
    "    if 65<=q<=90:\n",
    "        print(\"YES,it contains upper case.\")\n",
    "        break\n",
    "    else:\n",
    "        print(\"NO,it doesnot contains upper case.\")\n",
    "        break"
   ]
  },
  {
   "cell_type": "code",
   "execution_count": 6,
   "id": "313025fb",
   "metadata": {},
   "outputs": [
    {
     "name": "stdout",
     "output_type": "stream",
     "text": [
      "True\n"
     ]
    }
   ],
   "source": [
    "# Test if string starts with H.\n",
    "n=\"Hello\"\n",
    "if n[0]=='H':\n",
    "    print(True)\n",
    "else:\n",
    "    print(False)"
   ]
  },
  {
   "cell_type": "code",
   "execution_count": 7,
   "id": "04241025",
   "metadata": {},
   "outputs": [
    {
     "name": "stdout",
     "output_type": "stream",
     "text": [
      "Enter the character:a\n",
      "a = 97\n"
     ]
    }
   ],
   "source": [
    "# Returns an integer value for the given character.\n",
    "def int_val(m):\n",
    "    return ord(m)\n",
    "m=input(\"Enter the character:\")\n",
    "print(m,\"=\",int_val(m))"
   ]
  },
  {
   "cell_type": "code",
   "execution_count": 8,
   "id": "5d367a10",
   "metadata": {},
   "outputs": [
    {
     "name": "stdout",
     "output_type": "stream",
     "text": [
      "No. of digits in the string is 8\n"
     ]
    }
   ],
   "source": [
    "# Counting total Digits in a string.\n",
    "n=\"a1b2c3d4e5890\"\n",
    "c=0\n",
    "for i in n:\n",
    "    q=ord(i)\n",
    "    if 48<=q<=57:\n",
    "        c=c+1\n",
    "print(\"No. of digits in the string is\",c)        "
   ]
  },
  {
   "cell_type": "code",
   "execution_count": 9,
   "id": "952f59ee",
   "metadata": {},
   "outputs": [
    {
     "name": "stdout",
     "output_type": "stream",
     "text": [
      "No. of alphanumeric in the string is 7\n"
     ]
    }
   ],
   "source": [
    "# Counting total alphanumeric in a string.\n",
    "n=\"at@.iop$%.,99\"\n",
    "c=0\n",
    "for i in n:\n",
    "    q=ord(i)\n",
    "    if 48<=q<=57 or 65<=q<=90 or 97<=q<=122:\n",
    "        c=c+1\n",
    "print(\"No. of alphanumeric in the string is\",c)"
   ]
  },
  {
   "cell_type": "code",
   "execution_count": 10,
   "id": "1673df81",
   "metadata": {},
   "outputs": [
    {
     "name": "stdout",
     "output_type": "stream",
     "text": [
      "No. of uppercase in the string is 3\n"
     ]
    }
   ],
   "source": [
    "# Counting total Upper Case in a string.\n",
    "n=\"PythON\"\n",
    "c=0\n",
    "for i in n:\n",
    "    q=ord(i)\n",
    "    if 65<=q<=90:\n",
    "        c=c+1\n",
    "print(\"No. of uppercase in the string is\",c)"
   ]
  },
  {
   "cell_type": "code",
   "execution_count": 11,
   "id": "bcb4536c",
   "metadata": {},
   "outputs": [
    {
     "name": "stdout",
     "output_type": "stream",
     "text": [
      "No. of uppercase in the string is 6\n"
     ]
    }
   ],
   "source": [
    "# Counting total lower Case in a string.\n",
    "n=\"ABcdefGHIJKlm\"\n",
    "c=0\n",
    "for i in n:\n",
    "    q=ord(i)\n",
    "    if 97<=q<=122:\n",
    "        c=c+1\n",
    "print(\"No. of uppercase in the string is\",c)"
   ]
  }
 ],
 "metadata": {
  "kernelspec": {
   "display_name": "Python 3",
   "language": "python",
   "name": "python3"
  },
  "language_info": {
   "codemirror_mode": {
    "name": "ipython",
    "version": 3
   },
   "file_extension": ".py",
   "mimetype": "text/x-python",
   "name": "python",
   "nbconvert_exporter": "python",
   "pygments_lexer": "ipython3",
   "version": "3.8.8"
  }
 },
 "nbformat": 4,
 "nbformat_minor": 5
}
