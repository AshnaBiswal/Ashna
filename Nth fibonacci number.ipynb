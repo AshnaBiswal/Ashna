{
 "cells": [
  {
   "cell_type": "code",
   "execution_count": 2,
   "id": "46e464dc",
   "metadata": {},
   "outputs": [
    {
     "name": "stdout",
     "output_type": "stream",
     "text": [
      "10 th fibonacci number is 34"
     ]
    }
   ],
   "source": [
    "#python function to return the nth fibonacci number.\n",
    "def fib(n):\n",
    "    prev=0\n",
    "    cur=1\n",
    "    for i in range(n-2):\n",
    "        next=cur+prev\n",
    "        prev=cur\n",
    "        cur=next\n",
    "    print(n,\"th fibonacci number is\",next,end=\"\")    \n",
    "fib(10)        "
   ]
  }
 ],
 "metadata": {
  "kernelspec": {
   "display_name": "Python 3",
   "language": "python",
   "name": "python3"
  },
  "language_info": {
   "codemirror_mode": {
    "name": "ipython",
    "version": 3
   },
   "file_extension": ".py",
   "mimetype": "text/x-python",
   "name": "python",
   "nbconvert_exporter": "python",
   "pygments_lexer": "ipython3",
   "version": "3.8.8"
  }
 },
 "nbformat": 4,
 "nbformat_minor": 5
}
