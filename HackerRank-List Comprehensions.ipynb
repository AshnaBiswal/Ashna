{
 "cells": [
  {
   "cell_type": "code",
   "execution_count": 2,
   "id": "9377c5f1",
   "metadata": {},
   "outputs": [
    {
     "name": "stdout",
     "output_type": "stream",
     "text": [
      "Enter x: 1\n",
      "Enter y: 1\n",
      "Enter z: 1\n",
      "Enter n: 2\n",
      "[[0, 0, 0], [0, 0, 1], [0, 1, 0], [1, 0, 0], [1, 1, 1]]\n"
     ]
    }
   ],
   "source": [
    "#Given three integers x,y and z representing the dimensions of a cuboid along with an integer n.\n",
    "#Print a list of all possible coordinates given by (i,j,k) on a 3D grid where the sum of i+j+k is not equal to n. \n",
    "#Here,0<=i<=x;0<=j<=y;0<=k<=z.Please use list comprehensions rather than multiple loops, as a learning exercise.\n",
    "\n",
    "x=int(input(\"Enter x: \"))\n",
    "y=int(input(\"Enter y: \"))\n",
    "z=int(input(\"Enter z: \"))\n",
    "n=int(input(\"Enter n: \"))\n",
    "q=[[i,j,k] for i in range(x+1) for j in range(y+1) for k in range(z+1) if i+j+k!=n]\n",
    "print(q)"
   ]
  }
 ],
 "metadata": {
  "kernelspec": {
   "display_name": "Python 3",
   "language": "python",
   "name": "python3"
  },
  "language_info": {
   "codemirror_mode": {
    "name": "ipython",
    "version": 3
   },
   "file_extension": ".py",
   "mimetype": "text/x-python",
   "name": "python",
   "nbconvert_exporter": "python",
   "pygments_lexer": "ipython3",
   "version": "3.8.8"
  }
 },
 "nbformat": 4,
 "nbformat_minor": 5
}
