{
 "cells": [
  {
   "cell_type": "code",
   "execution_count": 1,
   "id": "e35ca79f",
   "metadata": {},
   "outputs": [
    {
     "name": "stdout",
     "output_type": "stream",
     "text": [
      "Enter the no. of elements u want in list: 5\n",
      "7\n",
      "89\n",
      "4\n",
      "27\n",
      "9\n",
      "list before sorting in descending order: [7, 89, 4, 27, 9]\n",
      "list after sorting in descending order: [89, 27, 9, 7, 4]\n"
     ]
    }
   ],
   "source": [
    "#Python program to Sort the list in descending order.\n",
    "l=[]\n",
    "n=int(input(\"Enter the no. of elements u want in list: \"))\n",
    "for i in range(n):\n",
    "    m=int(input())\n",
    "    l.append(m)\n",
    "print(\"list before sorting in descending order:\",l)\n",
    "l.sort(reverse=True)\n",
    "print(\"list after sorting in descending order:\",l)"
   ]
  },
  {
   "cell_type": "code",
   "execution_count": 3,
   "id": "eb7c6903",
   "metadata": {},
   "outputs": [
    {
     "name": "stdout",
     "output_type": "stream",
     "text": [
      "Enter the no. of elements u want in list: 5\n",
      "1\n",
      "4\n",
      "7\n",
      "3\n",
      "2\n",
      "original list: [1, 4, 7, 3, 2]\n",
      "Enter the index u want to remove: 2\n",
      "Removed item: 7\n"
     ]
    }
   ],
   "source": [
    "#Removes the item at the given index from the list and returns the removed item.\n",
    "l=[]\n",
    "n=int(input(\"Enter the no. of elements u want in list: \"))\n",
    "for i in range(n):\n",
    "    m=int(input())\n",
    "    l.append(m)\n",
    "print(\"original list:\",l)\n",
    "x=int(input(\"Enter the index u want to remove: \"))\n",
    "if i in range(n):    \n",
    "    a=l.pop(x)\n",
    "    print(\"Removed item:\",a)\n",
    "else:\n",
    "    print(\"Invalid Index\")   "
   ]
  },
  {
   "cell_type": "code",
   "execution_count": 5,
   "id": "d11cc808",
   "metadata": {},
   "outputs": [
    {
     "name": "stdout",
     "output_type": "stream",
     "text": [
      "Enter the element to want its no. of occurence: 9\n",
      "Number of times 9 is repeated is 2\n"
     ]
    }
   ],
   "source": [
    "#Returns the number of times the specified element appears in the list.\n",
    "def count(l):\n",
    "    c=0\n",
    "    n=int(input(\"Enter the element to want its no. of occurence: \"))\n",
    "    for i in range(len(l)):\n",
    "        if l[i]==n:\n",
    "            c=c+1\n",
    "    return print(\"Number of times\",n,\"is repeated is\",c)        \n",
    "count([5,9,5,5,7,9])"
   ]
  },
  {
   "cell_type": "code",
   "execution_count": 7,
   "id": "780acbce",
   "metadata": {},
   "outputs": [
    {
     "name": "stdout",
     "output_type": "stream",
     "text": [
      "First character of each word in a string is: a x m p g "
     ]
    }
   ],
   "source": [
    "#access first characters in a string.\n",
    "n=\"abc xyz mno pqr ghi\"\n",
    "print(\"First character of each word in a string is:\",n[0:1],end=\" \")\n",
    "k=0\n",
    "for i in n:\n",
    "    k=k+1\n",
    "    if i==\" \":\n",
    "        print(n[k],end=\" \")       "
   ]
  },
  {
   "cell_type": "code",
   "execution_count": 8,
   "id": "9652da5e",
   "metadata": {},
   "outputs": [
    {
     "name": "stdout",
     "output_type": "stream",
     "text": [
      "Last character of each word in a string is:\n",
      "c z o r i\n"
     ]
    }
   ],
   "source": [
    "#access Last characters in a string.\n",
    "n=\"abc xyz mno pqr ghi\"\n",
    "print(\"Last character of each word in a string is:\")\n",
    "k=0\n",
    "for i in n:\n",
    "    k=k+1\n",
    "    if i==\" \":\n",
    "        print(n[k-2],end=\" \") \n",
    "print(n[-1])        "
   ]
  },
  {
   "cell_type": "code",
   "execution_count": 9,
   "id": "96a56f80",
   "metadata": {},
   "outputs": [
    {
     "name": "stdout",
     "output_type": "stream",
     "text": [
      "Enter the no. of elements u want in list: 5\n",
      "1\n",
      "2\n",
      "3\n",
      "4\n",
      "5\n",
      "list is: [1, 2, 3, 4, 5]\n"
     ]
    }
   ],
   "source": [
    "# Generate a list by list comprehension.\n",
    "n=int(input(\"Enter the no. of elements u want in list: \"))\n",
    "l=[int(input())for i in range(n)]\n",
    "print(\"list is:\",l)"
   ]
  },
  {
   "cell_type": "code",
   "execution_count": 12,
   "id": "8c3880cd",
   "metadata": {},
   "outputs": [
    {
     "name": "stdout",
     "output_type": "stream",
     "text": [
      "Enter the no. of elements u want in list: 3\n",
      "abc\n",
      "xyz\n",
      "mno\n",
      "original list: ['abc', 'xyz', 'mno']\n",
      "list after converting to uppercase: ['ABC', 'XYZ', 'MNO']\n"
     ]
    }
   ],
   "source": [
    "# Set the values in the new list to upper case.\n",
    "l=[]\n",
    "o=[]\n",
    "n=int(input(\"Enter the no. of elements u want in list: \"))\n",
    "for i in range(n):\n",
    "    m=input(\"\")\n",
    "    p=m.upper()\n",
    "    o.append(m)\n",
    "    l.append(p)\n",
    "print(\"original list:\",o)\n",
    "print(\"list after converting to uppercase:\",l)"
   ]
  },
  {
   "cell_type": "code",
   "execution_count": 13,
   "id": "6fd65236",
   "metadata": {},
   "outputs": [
    {
     "data": {
      "text/plain": [
       "['am', 'hi', 'i', 'learning', 'python']"
      ]
     },
     "execution_count": 13,
     "metadata": {},
     "output_type": "execute_result"
    }
   ],
   "source": [
    "# Sort the string list alphabetically.\n",
    "n=[\"hi\",\"i\",\"am\",\"learning\",\"python\"]\n",
    "n.sort()\n",
    "n"
   ]
  },
  {
   "cell_type": "code",
   "execution_count": 14,
   "id": "28318146",
   "metadata": {},
   "outputs": [
    {
     "data": {
      "text/plain": [
       "{1, 2, 3, 4, 5, 'a', 'b', 'c'}"
      ]
     },
     "execution_count": 14,
     "metadata": {},
     "output_type": "execute_result"
    }
   ],
   "source": [
    "# Join Two Sets.\n",
    "s1={1,2,3,4,5}\n",
    "s2={\"a\",\"b\",\"c\"}\n",
    "s1.union(s2)"
   ]
  },
  {
   "cell_type": "code",
   "execution_count": 17,
   "id": "5bb4fd46",
   "metadata": {},
   "outputs": [
    {
     "name": "stdout",
     "output_type": "stream",
     "text": [
      "Items present in both sets are {1, 3, 'b'}\n"
     ]
    }
   ],
   "source": [
    "#keep only the items that are present in both sets.\n",
    "s1={1,2,3,\"b\",5}\n",
    "s2={\"a\",\"b\",3,1,\"c\"}\n",
    "s3=s1.intersection(s2)\n",
    "print(\"Items present in both sets are\",s3)"
   ]
  },
  {
   "cell_type": "code",
   "execution_count": null,
   "id": "a64f5e67",
   "metadata": {},
   "outputs": [],
   "source": []
  }
 ],
 "metadata": {
  "kernelspec": {
   "display_name": "Python 3",
   "language": "python",
   "name": "python3"
  },
  "language_info": {
   "codemirror_mode": {
    "name": "ipython",
    "version": 3
   },
   "file_extension": ".py",
   "mimetype": "text/x-python",
   "name": "python",
   "nbconvert_exporter": "python",
   "pygments_lexer": "ipython3",
   "version": "3.8.8"
  }
 },
 "nbformat": 4,
 "nbformat_minor": 5
}
