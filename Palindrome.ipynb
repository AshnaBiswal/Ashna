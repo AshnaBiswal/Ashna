{
 "cells": [
  {
   "cell_type": "code",
   "execution_count": 3,
   "id": "891efc39",
   "metadata": {},
   "outputs": [
    {
     "name": "stdout",
     "output_type": "stream",
     "text": [
      "Enter a number:151\n",
      "It is Palindrome\n"
     ]
    }
   ],
   "source": [
    "#Python Palindrome Program using Function.\n",
    "def pal(n):\n",
    "    sum=0\n",
    "    temp=n\n",
    "    while n>0:\n",
    "        r=n%10\n",
    "        sum=sum*10+r\n",
    "        n=n//10\n",
    "    if sum==temp:\n",
    "        print(\"It is Palindrome\")\n",
    "    else:\n",
    "        print(\"It is not a Palindrome\")\n",
    "n=int(input(\"Enter a number:\"))\n",
    "pal(n)        "
   ]
  }
 ],
 "metadata": {
  "kernelspec": {
   "display_name": "Python 3",
   "language": "python",
   "name": "python3"
  },
  "language_info": {
   "codemirror_mode": {
    "name": "ipython",
    "version": 3
   },
   "file_extension": ".py",
   "mimetype": "text/x-python",
   "name": "python",
   "nbconvert_exporter": "python",
   "pygments_lexer": "ipython3",
   "version": "3.8.8"
  }
 },
 "nbformat": 4,
 "nbformat_minor": 5
}
