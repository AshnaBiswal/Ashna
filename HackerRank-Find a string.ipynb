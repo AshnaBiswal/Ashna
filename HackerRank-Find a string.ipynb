{
 "cells": [
  {
   "cell_type": "code",
   "execution_count": 3,
   "id": "c29fbaf4",
   "metadata": {},
   "outputs": [
    {
     "data": {
      "text/plain": [
       "2"
      ]
     },
     "execution_count": 3,
     "metadata": {},
     "output_type": "execute_result"
    }
   ],
   "source": [
    "#In this challenge, the user enters a string and a substring.\n",
    "#You have to print the number of times that the substring occurs in the given string.\n",
    "#String traversal will take place from left to right, not from right to left.\n",
    "\n",
    "#NOTE: String letters are case-sensitive.\n",
    "\n",
    "def count_substring(string, sub_string):\n",
    "    q=0\n",
    "    for i in range(len(string)):\n",
    "        p=\"\"\n",
    "        p=string[i:i+len(sub_string)]\n",
    "        if p==sub_string:\n",
    "            q=q+1\n",
    "    return q\n",
    "count_substring(\"stobngob\",\"ob\")"
   ]
  }
 ],
 "metadata": {
  "kernelspec": {
   "display_name": "Python 3",
   "language": "python",
   "name": "python3"
  },
  "language_info": {
   "codemirror_mode": {
    "name": "ipython",
    "version": 3
   },
   "file_extension": ".py",
   "mimetype": "text/x-python",
   "name": "python",
   "nbconvert_exporter": "python",
   "pygments_lexer": "ipython3",
   "version": "3.8.8"
  }
 },
 "nbformat": 4,
 "nbformat_minor": 5
}
