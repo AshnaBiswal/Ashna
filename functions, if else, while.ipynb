{
 "cells": [
  {
   "cell_type": "code",
   "execution_count": 14,
   "id": "37bb2fd6",
   "metadata": {},
   "outputs": [
    {
     "name": "stdout",
     "output_type": "stream",
     "text": [
      "Weird\n"
     ]
    }
   ],
   "source": [
    "#Given an integer,n , perform the following conditional actions:\n",
    "#If n is odd, print Weird\n",
    "#If n is even and in the inclusive range of 2 to 5 , print Not Weird\n",
    "#If n is even and in the inclusive range of 6 to 20, print Weird\n",
    "#If n is even and greater than 20, print Not Weird\n",
    "\n",
    "n=3\n",
    "if n%2==0 and 2<=n<=5:\n",
    "    print(\"Not Weird\")\n",
    "elif n%2==0 and 6<=n<=20:\n",
    "    print(\"Weird\")\n",
    "elif n%2==0 and n>20:\n",
    "    print(\"Not Weird\")\n",
    "else:\n",
    "    print(\"Weird\")"
   ]
  },
  {
   "cell_type": "code",
   "execution_count": 37,
   "id": "f3938d6f",
   "metadata": {},
   "outputs": [
    {
     "data": {
      "text/plain": [
       "False"
      ]
     },
     "execution_count": 37,
     "metadata": {},
     "output_type": "execute_result"
    }
   ],
   "source": [
    "#Given a year, determine whether it is a leap year. If it is a leap year, return the Boolean True, otherwise return False.\n",
    "\n",
    "def is_leap(x):\n",
    "  if ((x%400==0 or x%100!=0) and (x%4==0)):\n",
    "    return True\n",
    "  else:\n",
    "    return False\n",
    "\n",
    "is_leap(1990)\n",
    "     "
   ]
  },
  {
   "cell_type": "code",
   "execution_count": 14,
   "id": "33623d98",
   "metadata": {},
   "outputs": [
    {
     "data": {
      "text/plain": [
       "True"
      ]
     },
     "execution_count": 14,
     "metadata": {},
     "output_type": "execute_result"
    }
   ],
   "source": [
    "#The parameter weekday is True if it is a weekday, and the parameter vacation is True if we are on vacation.\n",
    "#We sleep in if it is not a weekday or we're on vacation. Return True if we sleep in.\n",
    "\n",
    "def sleep_in(weekday,vacation):\n",
    "    if weekday==False or vacation==True:\n",
    "        return True\n",
    "    else:\n",
    "        return False\n",
    "\n",
    "sleep_in(False,False)"
   ]
  },
  {
   "cell_type": "code",
   "execution_count": 15,
   "id": "e1e8f5b4",
   "metadata": {},
   "outputs": [
    {
     "data": {
      "text/plain": [
       "False"
      ]
     },
     "execution_count": 15,
     "metadata": {},
     "output_type": "execute_result"
    }
   ],
   "source": [
    "#We have two monkeys, a and b, and the parameters a_smile and b_smile indicate if each is smiling.\n",
    "#We are in trouble if they are both smiling or if neither of them is smiling. Return True if we are in trouble.\n",
    "\n",
    "def monkey_trouble(a_smile,b_smile):\n",
    "    if ((a_smile==True and b_smile==True) or (a_smile==False and b_smile==False)):\n",
    "        return True\n",
    "    else:\n",
    "        return False\n",
    "\n",
    "monkey_trouble(True,False)"
   ]
  },
  {
   "cell_type": "code",
   "execution_count": 11,
   "id": "49133fde",
   "metadata": {},
   "outputs": [
    {
     "data": {
      "text/plain": [
       "15"
      ]
     },
     "execution_count": 11,
     "metadata": {},
     "output_type": "execute_result"
    }
   ],
   "source": [
    "#Given two int values, return their sum. Unless the two values are the same, then return double their sum.\n",
    "\n",
    "def sum_double(a,b):\n",
    "    if a==b:\n",
    "        return (a+b)*2\n",
    "    else:\n",
    "        return (a+b)\n",
    "    \n",
    "sum_double(7,8)   "
   ]
  },
  {
   "cell_type": "code",
   "execution_count": 16,
   "id": "689d4f19",
   "metadata": {},
   "outputs": [
    {
     "data": {
      "text/plain": [
       "28"
      ]
     },
     "execution_count": 16,
     "metadata": {},
     "output_type": "execute_result"
    }
   ],
   "source": [
    "#Given an int n, return the absolute difference between n and 21,\n",
    "#except return double the absolute difference if n is over 21.\n",
    "\n",
    "def diff21(n):\n",
    "    if n<=21:\n",
    "        return abs(n-21)\n",
    "    else:\n",
    "        return abs(n-21)*2\n",
    "    \n",
    "diff21(35)    "
   ]
  },
  {
   "cell_type": "code",
   "execution_count": 19,
   "id": "25fc3518",
   "metadata": {},
   "outputs": [
    {
     "data": {
      "text/plain": [
       "True"
      ]
     },
     "execution_count": 19,
     "metadata": {},
     "output_type": "execute_result"
    }
   ],
   "source": [
    "#We have a loud talking parrot. The \"hour\" parameter is the current hour time in the range 0..23.\n",
    "#We are in trouble if the parrot is talking and the hour is before 7 or after 20. Return True if we are in trouble.\n",
    "\n",
    "def parrot_trouble(talking,hour):\n",
    "    if talking==True and (hour<7 or hour>20):\n",
    "        return True\n",
    "    else:\n",
    "        return False\n",
    "    \n",
    "parrot_trouble(True,23)   "
   ]
  },
  {
   "cell_type": "code",
   "execution_count": 22,
   "id": "4d3e59a3",
   "metadata": {},
   "outputs": [
    {
     "data": {
      "text/plain": [
       "False"
      ]
     },
     "execution_count": 22,
     "metadata": {},
     "output_type": "execute_result"
    }
   ],
   "source": [
    "#Given 2 ints, a and b, return True if one if them is 10 or if their sum is 10.\n",
    "\n",
    "def makes10(a,b):\n",
    "    if a==10 or b==10 or (a+b)==10:\n",
    "        return True\n",
    "    else:\n",
    "        return False\n",
    "\n",
    "makes10(1,5)    "
   ]
  },
  {
   "cell_type": "code",
   "execution_count": 24,
   "id": "25115db4",
   "metadata": {},
   "outputs": [
    {
     "data": {
      "text/plain": [
       "True"
      ]
     },
     "execution_count": 24,
     "metadata": {},
     "output_type": "execute_result"
    }
   ],
   "source": [
    "#Given an int n, return True if it is within 10 of 100 or 200.\n",
    "\n",
    "def near_hundred(n):\n",
    "    if ((abs(100 - n) <= 10) or (abs(200 - n) <= 10)):\n",
    "        return True\n",
    "    else:\n",
    "        return False\n",
    "\n",
    "near_hundred(97)    "
   ]
  },
  {
   "cell_type": "code",
   "execution_count": 28,
   "id": "e635498f",
   "metadata": {},
   "outputs": [
    {
     "data": {
      "text/plain": [
       "True"
      ]
     },
     "execution_count": 28,
     "metadata": {},
     "output_type": "execute_result"
    }
   ],
   "source": [
    "#Given 2 int values, return True if one is negative and one is positive.\n",
    "#Except if the parameter \"negative\" is True, then return True only if both are negative.\n",
    "\n",
    "def pos_neg(a,b,negative):\n",
    "    if  (negative==True and a<0 and b<0):\n",
    "        return True\n",
    "    elif ((a>0 and b<0) or (a<0 and b>0)) and negative!=True:\n",
    "        return True\n",
    "    else:\n",
    "        return False\n",
    "    \n",
    "pos_neg(-7,-9,True)    "
   ]
  },
  {
   "cell_type": "code",
   "execution_count": 32,
   "id": "39b1719d",
   "metadata": {},
   "outputs": [
    {
     "data": {
      "text/plain": [
       "'not google'"
      ]
     },
     "execution_count": 32,
     "metadata": {},
     "output_type": "execute_result"
    }
   ],
   "source": [
    "#Given a string, return a new string where \"not \" has been added to the front. \n",
    "#However, if the string already begins with \"not\", return the string unchanged.\n",
    "\n",
    "def not_string(str):\n",
    "    if str[:3]==\"not\":\n",
    "        return str\n",
    "    else:\n",
    "        return \"not \" + str\n",
    "\n",
    "not_string(\"google\")    "
   ]
  },
  {
   "cell_type": "code",
   "execution_count": 33,
   "id": "e4499601",
   "metadata": {},
   "outputs": [
    {
     "name": "stdout",
     "output_type": "stream",
     "text": [
      "5\n",
      "1\n",
      "6\n"
     ]
    }
   ],
   "source": [
    "#The provided code stub reads two integers a  and b. Add code to print three lines where:\n",
    "#1.The first line contains the sum of the two numbers.\n",
    "#2.The second line contains the difference of the two numbers (first - second).\n",
    "#3.The third line contains the product of the two numbers.\n",
    "\n",
    "a=3\n",
    "b=2\n",
    "print(a+b)\n",
    "print(a-b)\n",
    "print(a*b)"
   ]
  },
  {
   "cell_type": "code",
   "execution_count": 34,
   "id": "b1df6329",
   "metadata": {},
   "outputs": [
    {
     "name": "stdout",
     "output_type": "stream",
     "text": [
      "1\n",
      "1.3333333333333333\n"
     ]
    }
   ],
   "source": [
    "#The provided code reads two integers, a and b.\n",
    "#Add logic to print two lines. \n",
    "#The first line should contain the result of integer division,  a//b .\n",
    "#The second line should contain the result of float division, a/b .\n",
    "#No rounding or formatting is necessary.\n",
    "\n",
    "a=4\n",
    "b=3\n",
    "print(a//b)\n",
    "print(a/b)"
   ]
  },
  {
   "cell_type": "code",
   "execution_count": 35,
   "id": "a876d722",
   "metadata": {},
   "outputs": [
    {
     "name": "stdout",
     "output_type": "stream",
     "text": [
      "0\n",
      "1\n",
      "4\n",
      "9\n",
      "16\n"
     ]
    }
   ],
   "source": [
    "#The provided code reads integer,n. For all non-negative integers i<n , print i^2 .\n",
    "\n",
    "n=5\n",
    "i=0\n",
    "while i<n:\n",
    " print(i*i)\n",
    " i=i+1   "
   ]
  },
  {
   "cell_type": "code",
   "execution_count": 36,
   "id": "699934ee",
   "metadata": {},
   "outputs": [
    {
     "name": "stdout",
     "output_type": "stream",
     "text": [
      "12345"
     ]
    }
   ],
   "source": [
    "#Without using any string methods, try to print the following:\n",
    "#123....n\n",
    "\n",
    "n=5\n",
    "i=1\n",
    "while i<=n:\n",
    "  print(i,end=\"\")\n",
    "  i=i+1   \n",
    "    \n",
    "# OR\n",
    "# n = int(input())\n",
    "# print(*range(1,n+1), sep='')"
   ]
  },
  {
   "cell_type": "code",
   "execution_count": null,
   "id": "e7045c52",
   "metadata": {},
   "outputs": [],
   "source": []
  }
 ],
 "metadata": {
  "kernelspec": {
   "display_name": "Python 3",
   "language": "python",
   "name": "python3"
  },
  "language_info": {
   "codemirror_mode": {
    "name": "ipython",
    "version": 3
   },
   "file_extension": ".py",
   "mimetype": "text/x-python",
   "name": "python",
   "nbconvert_exporter": "python",
   "pygments_lexer": "ipython3",
   "version": "3.8.8"
  }
 },
 "nbformat": 4,
 "nbformat_minor": 5
}
