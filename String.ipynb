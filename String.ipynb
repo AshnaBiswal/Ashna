{
 "cells": [
  {
   "cell_type": "code",
   "execution_count": 2,
   "id": "4c0b7942",
   "metadata": {},
   "outputs": [
    {
     "data": {
      "text/plain": [
       "'Hello Bob!'"
      ]
     },
     "execution_count": 2,
     "metadata": {},
     "output_type": "execute_result"
    }
   ],
   "source": [
    "#Given a string name, e.g. \"Bob\", return a greeting of the form \"Hello Bob!\".\n",
    "\n",
    "def hello_name(name):\n",
    "    return \"Hello \" + name+ \"!\"\n",
    "\n",
    "hello_name(\"Bob\")"
   ]
  },
  {
   "cell_type": "code",
   "execution_count": 3,
   "id": "1bf421fb",
   "metadata": {},
   "outputs": [
    {
     "data": {
      "text/plain": [
       "'HiByeByeHi'"
      ]
     },
     "execution_count": 3,
     "metadata": {},
     "output_type": "execute_result"
    }
   ],
   "source": [
    "#Given two strings, a and b, return the result of putting them together in the order abba,\n",
    "#e.g. \"Hi\" and \"Bye\" returns \"HiByeByeHi\".\n",
    "\n",
    "def make_abba(a, b):\n",
    "    return a+b+b+a\n",
    "\n",
    "make_abba(\"Hi\",\"Bye\")"
   ]
  },
  {
   "cell_type": "code",
   "execution_count": 6,
   "id": "9defda55",
   "metadata": {},
   "outputs": [
    {
     "data": {
      "text/plain": [
       "'<i>Yay</i>'"
      ]
     },
     "execution_count": 6,
     "metadata": {},
     "output_type": "execute_result"
    }
   ],
   "source": [
    "#The web is built with HTML strings like \"<i>Yay</i>\" which draws Yay as italic text.\n",
    "#In this example, the \"i\" tag makes <i> and </i> which surround the word \"Yay\". \n",
    "#Given tag and word strings, create the HTML string with tags around the word, e.g. \"<i>Yay</i>\".\n",
    "\n",
    "\n",
    "def make_tags(tag, word):\n",
    "    return \"<\"+tag+\">\"+word+\"</\"+tag+\">\"\n",
    "\n",
    "make_tags(\"i\",\"Yay\")"
   ]
  },
  {
   "cell_type": "code",
   "execution_count": 9,
   "id": "d1c70568",
   "metadata": {},
   "outputs": [
    {
     "data": {
      "text/plain": [
       "'<<word>>'"
      ]
     },
     "execution_count": 9,
     "metadata": {},
     "output_type": "execute_result"
    }
   ],
   "source": [
    "#Given an \"out\" string length 4, such as \"<<>>\", and a word, return a new string \n",
    "#where the word is in the middle of the out string, e.g. \"<<word>>\".\n",
    "\n",
    "def make_out_word(out, word):\n",
    "    return out[:2]+word+out[2:]\n",
    "\n",
    "make_out_word(\"<<>>\",\"word\")"
   ]
  },
  {
   "cell_type": "code",
   "execution_count": 14,
   "id": "ad0c43fc",
   "metadata": {},
   "outputs": [
    {
     "data": {
      "text/plain": [
       "'lololo'"
      ]
     },
     "execution_count": 14,
     "metadata": {},
     "output_type": "execute_result"
    }
   ],
   "source": [
    "#Given a string, return a new string made of 3 copies of the last 2 chars of the original string. \n",
    "#The string length will be at least 2.\n",
    "\n",
    "def extra_end(str):\n",
    "    return str[-2:]*3\n",
    "\n",
    "extra_end(\"Hello\")"
   ]
  },
  {
   "cell_type": "code",
   "execution_count": 17,
   "id": "2729644e",
   "metadata": {},
   "outputs": [
    {
     "data": {
      "text/plain": [
       "'He'"
      ]
     },
     "execution_count": 17,
     "metadata": {},
     "output_type": "execute_result"
    }
   ],
   "source": [
    "#Given a string, return the string made of its first two chars, so the String \"Hello\" yields \"He\".\n",
    "#If the string is shorter than length 2, return whatever there is, so \"X\" yields \"X\",\n",
    "#and the empty string \"\" yields the empty string \"\".\n",
    "\n",
    "def first_two(str):\n",
    "    if len(str)<2:\n",
    "        return str\n",
    "    else:\n",
    "        return str[:2]\n",
    "\n",
    "first_two(\"Hello\")"
   ]
  },
  {
   "cell_type": "code",
   "execution_count": 25,
   "id": "149dabf3",
   "metadata": {},
   "outputs": [
    {
     "data": {
      "text/plain": [
       "'Woo'"
      ]
     },
     "execution_count": 25,
     "metadata": {},
     "output_type": "execute_result"
    }
   ],
   "source": [
    "#Given a string of even length, return the first half. So the string \"WooHoo\" yields \"Woo\".\n",
    "\n",
    "def first_half(str):\n",
    "    if len(str)%2==0:\n",
    "        a=int(len(str)/2)\n",
    "        return str[:a]\n",
    "    else:\n",
    "        return \"odd length\"\n",
    "\n",
    "first_half('WooHoo')  "
   ]
  },
  {
   "cell_type": "code",
   "execution_count": 27,
   "id": "a7cfee0b",
   "metadata": {},
   "outputs": [
    {
     "data": {
      "text/plain": [
       "'ytho'"
      ]
     },
     "execution_count": 27,
     "metadata": {},
     "output_type": "execute_result"
    }
   ],
   "source": [
    "#Given a string, return a version without the first and last char, so \"Hello\" yields \"ell\". \n",
    "#The string length will be at least 2.\n",
    "\n",
    "def without_end(str):\n",
    "    if len(str)>=2:\n",
    "        return str[1:len(str)-1]\n",
    "    else:\n",
    "        return str\n",
    "\n",
    "without_end(\"Python\")    "
   ]
  },
  {
   "cell_type": "code",
   "execution_count": 30,
   "id": "48a0f6b5",
   "metadata": {},
   "outputs": [
    {
     "data": {
      "text/plain": [
       "'bbaaabb'"
      ]
     },
     "execution_count": 30,
     "metadata": {},
     "output_type": "execute_result"
    }
   ],
   "source": [
    "#Given 2 strings, a and b, return a string of the form short+long+short, with the shorter string on the outside\n",
    "#and the longer string on the inside. The strings will not be the same length, but they may be empty (length 0).\n",
    "\n",
    "def combo_string(a, b):\n",
    "    if len(a)<len(b):\n",
    "        return a+b+a\n",
    "    else:\n",
    "        return b+a+b\n",
    "\n",
    "combo_string(\"aaa\",\"bb\")    "
   ]
  },
  {
   "cell_type": "code",
   "execution_count": 31,
   "id": "74525d42",
   "metadata": {},
   "outputs": [
    {
     "data": {
      "text/plain": [
       "'ythonode'"
      ]
     },
     "execution_count": 31,
     "metadata": {},
     "output_type": "execute_result"
    }
   ],
   "source": [
    "#Given 2 strings, return their concatenation, except omit the first char of each. The strings will be at least length 1.\n",
    "\n",
    "def non_start(a, b):\n",
    "    if len(a)>=1 and len(b)>=1:\n",
    "        sub1=a[1:]\n",
    "        sub2=b[1:]\n",
    "        return sub1+sub2\n",
    "    \n",
    "non_start(\"Python\",\"Code\")    "
   ]
  },
  {
   "cell_type": "code",
   "execution_count": 33,
   "id": "a747b86a",
   "metadata": {},
   "outputs": [
    {
     "data": {
      "text/plain": [
       "'thonPy'"
      ]
     },
     "execution_count": 33,
     "metadata": {},
     "output_type": "execute_result"
    }
   ],
   "source": [
    "#Given a string, return a \"rotated left 2\" version where the first 2 chars are moved to the end. \n",
    "#The string length will be at least 2.\n",
    "\n",
    "def left2(str):\n",
    "    if len(str)>=2:\n",
    "        a=str[:2]\n",
    "        b=str[2:]\n",
    "        return b+a\n",
    "\n",
    "left2(\"Python\")    "
   ]
  },
  {
   "cell_type": "code",
   "execution_count": 35,
   "id": "17095b88",
   "metadata": {},
   "outputs": [
    {
     "data": {
      "text/plain": [
       "'PPyytthhoonn'"
      ]
     },
     "execution_count": 35,
     "metadata": {},
     "output_type": "execute_result"
    }
   ],
   "source": [
    "#Given a string, return a string where for every char in the original, there are two chars.\n",
    "\n",
    "def double_char(str):\n",
    "    a=\"\"\n",
    "    for i in range(len(str)):\n",
    "        a=a+str[i]*2\n",
    "    return a  \n",
    "\n",
    "double_char(\"Python\")    "
   ]
  },
  {
   "cell_type": "code",
   "execution_count": 37,
   "id": "89731de3",
   "metadata": {},
   "outputs": [
    {
     "data": {
      "text/plain": [
       "3"
      ]
     },
     "execution_count": 37,
     "metadata": {},
     "output_type": "execute_result"
    }
   ],
   "source": [
    "#Return the number of times that the string \"hi\" appears anywhere in the given string.\n",
    "\n",
    "def count_hi(str):\n",
    "    count=0\n",
    "    for i in range(len(str)-1):\n",
    "        sub=str[i:i+2]\n",
    "        if sub==\"hi\":\n",
    "            count=count+1\n",
    "    return count\n",
    "\n",
    "count_hi(\"hihiHiworldhicat\")"
   ]
  },
  {
   "cell_type": "code",
   "execution_count": 42,
   "id": "05338e32",
   "metadata": {},
   "outputs": [
    {
     "data": {
      "text/plain": [
       "True"
      ]
     },
     "execution_count": 42,
     "metadata": {},
     "output_type": "execute_result"
    }
   ],
   "source": [
    "#Return True if the string \"cat\" and \"dog\" appear the same number of times in the given string.\n",
    "\n",
    "def cat_dog(str):\n",
    "    cat_count=0\n",
    "    dog_count=0\n",
    "    for i in range(len(str)-2):\n",
    "        sub=str[i:i+3]\n",
    "        if sub==\"cat\":\n",
    "            cat_count=cat_count+1\n",
    "        elif sub==\"dog\":\n",
    "            dog_count=dog_count+1\n",
    "    if cat_count==dog_count:\n",
    "        return True \n",
    "    else:\n",
    "        return False\n",
    "    \n",
    "cat_dog(\"catxdogxdogxcat\") "
   ]
  },
  {
   "cell_type": "code",
   "execution_count": 52,
   "id": "8eef827c",
   "metadata": {},
   "outputs": [
    {
     "data": {
      "text/plain": [
       "4"
      ]
     },
     "execution_count": 52,
     "metadata": {},
     "output_type": "execute_result"
    }
   ],
   "source": [
    "#Return the number of times that the string \"code\" appears anywhere in the given string,\n",
    "#except we'll accept any letter for the 'd', so \"cope\" and \"cooe\" count.\n",
    "\n",
    "def count_code(str):\n",
    "    count=0\n",
    "    for i in range(len(str)):\n",
    "        a=str[i:i+2]\n",
    "        b=str[i+3:i+4]\n",
    "        if a==\"co\" and b==\"e\":\n",
    "            count=count+1\n",
    "    return count  \n",
    "\n",
    "count_code(\"cozexxcoDecofecoeccode\")"
   ]
  },
  {
   "cell_type": "code",
   "execution_count": 56,
   "id": "15253397",
   "metadata": {},
   "outputs": [
    {
     "data": {
      "text/plain": [
       "True"
      ]
     },
     "execution_count": 56,
     "metadata": {},
     "output_type": "execute_result"
    }
   ],
   "source": [
    "#Given two strings, return True if either of the strings appears at the very end of the other string,\n",
    "#ignoring upper/lower case differences (in other words, the computation should not be \"case sensitive\").\n",
    "\n",
    "def end_other(a,b):\n",
    "    c=a.lower()\n",
    "    d=b.lower()\n",
    "    if c.endswith(d) or d.endswith(c):\n",
    "        return True\n",
    "    else:\n",
    "        return False\n",
    "    \n",
    "end_other(\"AbC\",\"HiaBc\")  "
   ]
  },
  {
   "cell_type": "code",
   "execution_count": 58,
   "id": "ab11a8c6",
   "metadata": {},
   "outputs": [
    {
     "data": {
      "text/plain": [
       "True"
      ]
     },
     "execution_count": 58,
     "metadata": {},
     "output_type": "execute_result"
    }
   ],
   "source": [
    "def xyz_there(str):\n",
    "    for i in range(len(str)):\n",
    "        if str[i] != '.' and str[i+1:i+4] == 'xyz':\n",
    "            return True\n",
    "    if str[0:3] == \"xyz\":\n",
    "        return True\n",
    "    return False\n",
    "\n",
    "xyz_there('abcxyz')"
   ]
  },
  {
   "cell_type": "code",
   "execution_count": null,
   "id": "09080503",
   "metadata": {},
   "outputs": [],
   "source": []
  }
 ],
 "metadata": {
  "kernelspec": {
   "display_name": "Python 3",
   "language": "python",
   "name": "python3"
  },
  "language_info": {
   "codemirror_mode": {
    "name": "ipython",
    "version": 3
   },
   "file_extension": ".py",
   "mimetype": "text/x-python",
   "name": "python",
   "nbconvert_exporter": "python",
   "pygments_lexer": "ipython3",
   "version": "3.8.8"
  }
 },
 "nbformat": 4,
 "nbformat_minor": 5
}
