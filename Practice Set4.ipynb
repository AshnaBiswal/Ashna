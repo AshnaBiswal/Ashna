{
 "cells": [
  {
   "cell_type": "code",
   "execution_count": 2,
   "id": "7e58172c",
   "metadata": {},
   "outputs": [
    {
     "name": "stdout",
     "output_type": "stream",
     "text": [
      "sum = 136\n"
     ]
    }
   ],
   "source": [
    "#Python Program to Find Sum of Natural Numbers Using Recursion.\n",
    "def sum(n):\n",
    "    if n<=1:\n",
    "        return n\n",
    "    else:\n",
    "        return n + sum(n-1)\n",
    "print(\"sum =\",sum(16))    "
   ]
  },
  {
   "cell_type": "code",
   "execution_count": 3,
   "id": "57500dfb",
   "metadata": {},
   "outputs": [
    {
     "name": "stdout",
     "output_type": "stream",
     "text": [
      "Factorial = 120\n"
     ]
    }
   ],
   "source": [
    "#Python Program to Find Factorial of Number Using Recursion.\n",
    "def fact(n):\n",
    "    if n==0:\n",
    "        return 1\n",
    "    else:\n",
    "        return n*fact(n-1)\n",
    "print(\"Factorial =\",fact(5))    "
   ]
  },
  {
   "cell_type": "code",
   "execution_count": 7,
   "id": "759691e1",
   "metadata": {},
   "outputs": [
    {
     "name": "stdout",
     "output_type": "stream",
     "text": [
      "Matrix 1 =\n",
      " [[5 9 4]\n",
      " [2 8 8]]\n",
      "Matrix 2 =\n",
      " [[9 9 1]\n",
      " [7 3 8]]\n",
      "Sum of matrix 1 and matrix 2 is\n",
      " [[14 18  5]\n",
      " [ 9 11 16]]\n"
     ]
    }
   ],
   "source": [
    "#Python Program to Add Two Matrices.\n",
    "import numpy as np\n",
    "m1=np.array([[5,9,4],[2,8,8]])\n",
    "print(\"Matrix 1 =\\n\",m1)\n",
    "m2=np.array([[9,9,1],[7,3,8]])\n",
    "print(\"Matrix 2 =\\n\",m2)\n",
    "m3=np.add(m1,m2)\n",
    "print(\"Sum of matrix 1 and matrix 2 is\\n\",m3)"
   ]
  },
  {
   "cell_type": "code",
   "execution_count": 10,
   "id": "1703489a",
   "metadata": {},
   "outputs": [
    {
     "name": "stdout",
     "output_type": "stream",
     "text": [
      "Sum of matrix x and matrix y is\n",
      "[14, 18, 5]\n",
      "[9, 11, 16]\n"
     ]
    }
   ],
   "source": [
    "#Python Program to Add Two Matrices using Nested List Comprehension.\n",
    "x = [[5,9,4],\n",
    "    [2,8,8]]\n",
    "y = [[9,9,1],\n",
    "    [7,3,8]]\n",
    "result = [[x[i][j]+y[i][j] for j in range(len(x[0]))] for i in range(len(y))]\n",
    "print(\"Sum of matrix x and matrix y is\")\n",
    "for r in result:\n",
    "    print(r)"
   ]
  },
  {
   "cell_type": "code",
   "execution_count": 13,
   "id": "751d47be",
   "metadata": {},
   "outputs": [
    {
     "name": "stdout",
     "output_type": "stream",
     "text": [
      "Transpose is\n",
      "[5, 2, 3]\n",
      "[9, 8, 3]\n",
      "[4, 8, 3]\n"
     ]
    }
   ],
   "source": [
    "#Python Program to Transpose a Matrix using Nested Loop.\n",
    "x = [[5,9,4],\n",
    "    [2,8,8],\n",
    "    [3,3,3]]\n",
    "print(\"Transpose is\")\n",
    "t= [[0,0,0],\n",
    "    [0,0,0],\n",
    "    [0,0,0]]\n",
    "for i in range(len(x)):\n",
    "    for j in range(len(x[0])):\n",
    "        t[i][j]=x[j][i]\n",
    "for r in t:\n",
    "    print(r)"
   ]
  },
  {
   "cell_type": "code",
   "execution_count": 14,
   "id": "460b3d6d",
   "metadata": {},
   "outputs": [
    {
     "name": "stdout",
     "output_type": "stream",
     "text": [
      "Transpose is\n",
      "[5, 2, 3]\n",
      "[9, 8, 3]\n",
      "[4, 8, 3]\n"
     ]
    }
   ],
   "source": [
    "#Python Program to Transpose a Matrix using Nested List Comprehension.\n",
    "x = [[5,9,4],\n",
    "    [2,8,8],\n",
    "    [3,3,3]]\n",
    "print(\"Transpose is\")\n",
    "t=[[x[j][i] for j in range(len(x[0]))]for i in range(len(x))]\n",
    "for r in t:\n",
    "    print(r)"
   ]
  },
  {
   "cell_type": "code",
   "execution_count": 15,
   "id": "adf0f6a8",
   "metadata": {},
   "outputs": [
    {
     "name": "stdout",
     "output_type": "stream",
     "text": [
      "Enter a string: aIbohPhoBiA\n",
      "It is a Palindrome\n"
     ]
    }
   ],
   "source": [
    "#Python Program to Check Whether a String is Palindrome or Not.\n",
    "n=input(\"Enter a string: \")\n",
    "m=n.lower()\n",
    "if m[0:]==m[::-1]:\n",
    "    print(\"It is a Palindrome\")\n",
    "else:\n",
    "    print(\"It is not a Palindrome\")"
   ]
  },
  {
   "cell_type": "code",
   "execution_count": 19,
   "id": "43dfd1f1",
   "metadata": {},
   "outputs": [
    {
     "name": "stdout",
     "output_type": "stream",
     "text": [
      "Enter a String: abc__d**&e\n",
      "abcde\n"
     ]
    }
   ],
   "source": [
    "#Python Program to Remove Punctuations From a String.\n",
    "punctuations = '''!()-[]{};:'\"\\,<>./?@#$%^&*_~'''\n",
    "string=input(\"Enter a String: \")\n",
    "new=\"\"\n",
    "for i in string:\n",
    "    if i not in punctuations:\n",
    "        new=new+i\n",
    "print(new)        "
   ]
  }
 ],
 "metadata": {
  "kernelspec": {
   "display_name": "Python 3",
   "language": "python",
   "name": "python3"
  },
  "language_info": {
   "codemirror_mode": {
    "name": "ipython",
    "version": 3
   },
   "file_extension": ".py",
   "mimetype": "text/x-python",
   "name": "python",
   "nbconvert_exporter": "python",
   "pygments_lexer": "ipython3",
   "version": "3.8.8"
  }
 },
 "nbformat": 4,
 "nbformat_minor": 5
}
