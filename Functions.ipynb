{
 "cells": [
  {
   "cell_type": "code",
   "execution_count": 2,
   "id": "4ba51559",
   "metadata": {},
   "outputs": [
    {
     "name": "stdout",
     "output_type": "stream",
     "text": [
      "Enter the number:5\n",
      "Factorial:\n",
      "120\n"
     ]
    }
   ],
   "source": [
    "#python function to return the factorial of a number.\n",
    "def fact(n):\n",
    "    i=1\n",
    "    while n>0:\n",
    "        i=n*i\n",
    "        n=n-1\n",
    "    print(i)  \n",
    "n=int(input(\"Enter the number:\"))    \n",
    "print(\"Factorial:\") \n",
    "fact(n)"
   ]
  },
  {
   "cell_type": "code",
   "execution_count": 3,
   "id": "62a10b69",
   "metadata": {},
   "outputs": [
    {
     "name": "stdout",
     "output_type": "stream",
     "text": [
      "Enter the radius:1\n",
      "Area of the circle: 3.14\n"
     ]
    }
   ],
   "source": [
    "#python function to find the area of a circle.\n",
    "r=int(input(\"Enter the radius:\"))    \n",
    "print(\"Area of the circle:\",3.14*r*r)"
   ]
  },
  {
   "cell_type": "code",
   "execution_count": 5,
   "id": "a13372dd",
   "metadata": {},
   "outputs": [
    {
     "name": "stdout",
     "output_type": "stream",
     "text": [
      "Enter the number:7\n",
      "It is prime\n"
     ]
    }
   ],
   "source": [
    "#python program to find whether a number is prime.\n",
    "n=int(input(\"Enter the number:\"))    \n",
    "k=1\n",
    "for i in range(2,n):\n",
    "    if n%i==0:\n",
    "        k=0\n",
    "        break\n",
    "if k==1:\n",
    "    print(\"It is prime\")\n",
    "else:\n",
    "    print(\"It is not prime\")"
   ]
  },
  {
   "cell_type": "code",
   "execution_count": 6,
   "id": "88205f09",
   "metadata": {},
   "outputs": [
    {
     "name": "stdout",
     "output_type": "stream",
     "text": [
      "Average of the numbers: 2.0\n"
     ]
    }
   ],
   "source": [
    "#python function to find the average of given numbers.\n",
    "n=[1,2,3]\n",
    "sum=0\n",
    "for i in n:\n",
    "    sum=sum+i\n",
    "print(\"Average of the numbers:\",sum/len(n))"
   ]
  },
  {
   "cell_type": "code",
   "execution_count": 9,
   "id": "90706d44",
   "metadata": {},
   "outputs": [
    {
     "name": "stdout",
     "output_type": "stream",
     "text": [
      "Factorial is 120\n"
     ]
    }
   ],
   "source": [
    "#python function for factorial using reduce.\n",
    "import functools\n",
    "n=5\n",
    "m=functools.reduce(lambda x,y:x*y,range(1,n+1))\n",
    "print(\"Factorial is\",m)        "
   ]
  }
 ],
 "metadata": {
  "kernelspec": {
   "display_name": "Python 3",
   "language": "python",
   "name": "python3"
  },
  "language_info": {
   "codemirror_mode": {
    "name": "ipython",
    "version": 3
   },
   "file_extension": ".py",
   "mimetype": "text/x-python",
   "name": "python",
   "nbconvert_exporter": "python",
   "pygments_lexer": "ipython3",
   "version": "3.8.8"
  }
 },
 "nbformat": 4,
 "nbformat_minor": 5
}
