{
 "cells": [
  {
   "cell_type": "code",
   "execution_count": 4,
   "id": "917f09ef",
   "metadata": {},
   "outputs": [
    {
     "name": "stdout",
     "output_type": "stream",
     "text": [
      "Enter String and Size:\n",
      "ABCD 3\n",
      "A\n",
      "B\n",
      "C\n",
      "D\n",
      "AB\n",
      "AC\n",
      "AD\n",
      "BC\n",
      "BD\n",
      "CD\n",
      "ABC\n",
      "ABD\n",
      "ACD\n",
      "BCD\n"
     ]
    }
   ],
   "source": [
    "#Given a string S.\n",
    "#Print all possible combinations, up to size k, of the string in lexicographic sorted order.\n",
    "\n",
    "from itertools import combinations\n",
    "print(\"Enter String and Size:\")\n",
    "s , n  = input().split()\n",
    "for i in range(1, int(n)+1):\n",
    "    for j in combinations(sorted(s), i):\n",
    "        print(''.join(j))"
   ]
  }
 ],
 "metadata": {
  "kernelspec": {
   "display_name": "Python 3",
   "language": "python",
   "name": "python3"
  },
  "language_info": {
   "codemirror_mode": {
    "name": "ipython",
    "version": 3
   },
   "file_extension": ".py",
   "mimetype": "text/x-python",
   "name": "python",
   "nbconvert_exporter": "python",
   "pygments_lexer": "ipython3",
   "version": "3.8.8"
  }
 },
 "nbformat": 4,
 "nbformat_minor": 5
}
