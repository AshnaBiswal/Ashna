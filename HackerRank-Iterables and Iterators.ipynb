{
 "cells": [
  {
   "cell_type": "code",
   "execution_count": 4,
   "id": "0e80e282",
   "metadata": {},
   "outputs": [
    {
     "name": "stdout",
     "output_type": "stream",
     "text": [
      "Enter the no. of English letters\n",
      "4\n",
      "Enter the English letters\n",
      "a a c d\n",
      "Enter the no. of indices\n",
      "2\n",
      "Probability = 0.8333333333333334\n"
     ]
    }
   ],
   "source": [
    "#You are given a list of N lowercase English letters.\n",
    "#For a given integer K, you can select any K indices (assume 1-based indexing) with a uniform probability from the list.\n",
    "#Find the probability that at least one of the K indices selected will contain the letter: ''.\n",
    "\n",
    "from itertools import combinations\n",
    "print(\"Enter the no. of English letters\")\n",
    "N=int(input())\n",
    "print(\"Enter the English letters\")\n",
    "m=input().split()\n",
    "print(\"Enter the no. of indices\")\n",
    "K=int(input())\n",
    "d=list(combinations(m,K))\n",
    "q=[i for i in d if 'a' in i]\n",
    "print(\"Probability =\",len(q)/len(d))"
   ]
  }
 ],
 "metadata": {
  "kernelspec": {
   "display_name": "Python 3",
   "language": "python",
   "name": "python3"
  },
  "language_info": {
   "codemirror_mode": {
    "name": "ipython",
    "version": 3
   },
   "file_extension": ".py",
   "mimetype": "text/x-python",
   "name": "python",
   "nbconvert_exporter": "python",
   "pygments_lexer": "ipython3",
   "version": "3.8.8"
  }
 },
 "nbformat": 4,
 "nbformat_minor": 5
}
