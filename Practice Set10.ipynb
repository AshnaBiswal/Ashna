{
 "cells": [
  {
   "cell_type": "code",
   "execution_count": 3,
   "id": "458e6e04",
   "metadata": {},
   "outputs": [
    {
     "name": "stdout",
     "output_type": "stream",
     "text": [
      "f\n"
     ]
    }
   ],
   "source": [
    "# Pick a random character from a given String.\n",
    "import string\n",
    "import random\n",
    "n=\"xdgfhcfgndry\"\n",
    "q=random.choice(n)\n",
    "print(q)"
   ]
  },
  {
   "cell_type": "code",
   "execution_count": 4,
   "id": "f0298120",
   "metadata": {},
   "outputs": [
    {
     "data": {
      "text/plain": [
       "'xfhhx'"
      ]
     },
     "execution_count": 4,
     "metadata": {},
     "output_type": "execute_result"
    }
   ],
   "source": [
    "# Generate  random String of length 5.\n",
    "import string\n",
    "import random\n",
    "n=\"xdgfhcfgndry\"\n",
    "''.join(random.choices(n,k=5))"
   ]
  },
  {
   "cell_type": "code",
   "execution_count": 6,
   "id": "9c52583a",
   "metadata": {},
   "outputs": [
    {
     "data": {
      "text/plain": [
       "'MachingsareLearning'"
      ]
     },
     "execution_count": 6,
     "metadata": {},
     "output_type": "execute_result"
    }
   ],
   "source": [
    "# Write a program which will create a new string by appending s2 in the middle of s1 given two strings, s1 and s2.\n",
    "s1=\"MachingsLearning\"\n",
    "s2=\"are\"\n",
    "s3=\"\"\n",
    "k=len(s1)//2\n",
    "s1[:k]+s2+s1[k:]"
   ]
  },
  {
   "cell_type": "code",
   "execution_count": 7,
   "id": "22b1f9e4",
   "metadata": {},
   "outputs": [
    {
     "name": "stdout",
     "output_type": "stream",
     "text": [
      "achingearningML\n"
     ]
    }
   ],
   "source": [
    "# Arrange string characters such that lowercase letters should come first.\n",
    "s1=\"MachingLearning\"\n",
    "s2=\"\"\n",
    "s3=\"\"\n",
    "for i in s1:\n",
    "    c=ord(i)\n",
    "    if 65<=c<=90:\n",
    "        s2=s2+i\n",
    "    else:\n",
    "        s3=s3+i\n",
    "print(s3+s2)        "
   ]
  },
  {
   "cell_type": "code",
   "execution_count": 8,
   "id": "e6d22fbb",
   "metadata": {},
   "outputs": [
    {
     "name": "stdout",
     "output_type": "stream",
     "text": [
      "Sum= 22\n",
      "Average= 0.4489795918367347\n"
     ]
    }
   ],
   "source": [
    "# Given a string, return the sum and average of the digits that appear in the string, ignoring all other characters.\n",
    "n=\"As56h9na20\"\n",
    "sum=0\n",
    "c=0\n",
    "for i in n:\n",
    "    c=ord(i)\n",
    "    if 48<=c<=57:\n",
    "        i=int(i)\n",
    "        sum=sum+i\n",
    "        c=c+1\n",
    "print(\"Sum=\",sum)\n",
    "print(\"Average=\",sum/c)"
   ]
  }
 ],
 "metadata": {
  "kernelspec": {
   "display_name": "Python 3",
   "language": "python",
   "name": "python3"
  },
  "language_info": {
   "codemirror_mode": {
    "name": "ipython",
    "version": 3
   },
   "file_extension": ".py",
   "mimetype": "text/x-python",
   "name": "python",
   "nbconvert_exporter": "python",
   "pygments_lexer": "ipython3",
   "version": "3.8.8"
  }
 },
 "nbformat": 4,
 "nbformat_minor": 5
}
