{
 "cells": [
  {
   "cell_type": "code",
   "execution_count": 1,
   "id": "c6976685",
   "metadata": {},
   "outputs": [
    {
     "name": "stdout",
     "output_type": "stream",
     "text": [
      "{\"Kyle\": 30, \"John\": 90}\n"
     ]
    }
   ],
   "source": [
    "# Convert dictionary to JSON.\n",
    "import json\n",
    "x={\n",
    "    \"Kyle\":30,\n",
    "    \"John\":90\n",
    "}\n",
    "y=json.dumps(x)\n",
    "print(y)"
   ]
  },
  {
   "cell_type": "code",
   "execution_count": 2,
   "id": "13ce9943",
   "metadata": {},
   "outputs": [
    {
     "name": "stdout",
     "output_type": "stream",
     "text": [
      "list after squaring its elements: [1, 81, 25, 16]\n"
     ]
    }
   ],
   "source": [
    "#  Given a Python list. Turn every item of a list into its square.\n",
    "n=[1,9,5,4]\n",
    "m=[]\n",
    "for i in n:\n",
    "    q=i*i\n",
    "    m.append(q)\n",
    "print(\"list after squaring its elements:\",m)    "
   ]
  },
  {
   "cell_type": "code",
   "execution_count": 4,
   "id": "aae86297",
   "metadata": {},
   "outputs": [
    {
     "name": "stdout",
     "output_type": "stream",
     "text": [
      "String after removing empty strings: ['s', 'h', 'i', 't']\n"
     ]
    }
   ],
   "source": [
    "# Remove empty strings from the list of strings.\n",
    "n= [\"\", \"s\",\"h\", \"\",\"\",\"\", \"i\", \"t\", \"\"]\n",
    "while \"\" in n:\n",
    "    n.remove(\"\")\n",
    "print(\"String after removing empty strings:\",n)        "
   ]
  },
  {
   "cell_type": "code",
   "execution_count": 6,
   "id": "e72b6882",
   "metadata": {},
   "outputs": [
    {
     "name": "stdout",
     "output_type": "stream",
     "text": [
      "Enter the no. you want to remove: 1\n",
      "List after removing all the occurences of 1 is [2, 3, 4, 5, 2]\n"
     ]
    }
   ],
   "source": [
    "# Write a program which will achieve given a Python list, remove all occurrence of an input from the list.\n",
    "n=[1,1,2,3,4,5,1,2,1]\n",
    "m=int(input(\"Enter the no. you want to remove: \"))\n",
    "while m in n:\n",
    "    n.remove(m)\n",
    "print(\"List after removing all the occurences of\",m,\"is\",n)    "
   ]
  },
  {
   "cell_type": "code",
   "execution_count": 9,
   "id": "520df348",
   "metadata": {},
   "outputs": [
    {
     "name": "stdout",
     "output_type": "stream",
     "text": [
      "3 Random no.s are:\n",
      "745\n",
      "190\n",
      "710\n"
     ]
    }
   ],
   "source": [
    "#  Generate 3 random integers between 100 and 999 which is divisible by 5.\n",
    "import random\n",
    "c=1\n",
    "print(\"3 Random no.s are:\")\n",
    "while c<=3:\n",
    "    q=random.randint(100,999)\n",
    "    if q%5==0:\n",
    "        print(q)\n",
    "        c=c+1        "
   ]
  }
 ],
 "metadata": {
  "kernelspec": {
   "display_name": "Python 3",
   "language": "python",
   "name": "python3"
  },
  "language_info": {
   "codemirror_mode": {
    "name": "ipython",
    "version": 3
   },
   "file_extension": ".py",
   "mimetype": "text/x-python",
   "name": "python",
   "nbconvert_exporter": "python",
   "pygments_lexer": "ipython3",
   "version": "3.8.8"
  }
 },
 "nbformat": 4,
 "nbformat_minor": 5
}
