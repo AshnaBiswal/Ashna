{
 "cells": [
  {
   "cell_type": "code",
   "execution_count": 1,
   "id": "842af0f9",
   "metadata": {},
   "outputs": [
    {
     "name": "stdout",
     "output_type": "stream",
     "text": [
      "List after removing duplicates is [5, 7, 9, 4, 78, 2, 89]\n"
     ]
    }
   ],
   "source": [
    "#Keep All items from List But NOT the Duplicates.\n",
    "l=[5,7,5,5,9,4,78,2,7,78,89]\n",
    "new_l=[]\n",
    "for i in l:\n",
    "    if i not in new_l:\n",
    "        new_l.append(i)\n",
    "print(\"List after removing duplicates is\",new_l)        "
   ]
  },
  {
   "cell_type": "code",
   "execution_count": 2,
   "id": "71da419d",
   "metadata": {},
   "outputs": [
    {
     "name": "stdout",
     "output_type": "stream",
     "text": [
      "Enter number of keys: 2\n",
      "Please input a key: Harsh\n",
      "Plesse input a value: 34\n",
      "Please input a key: 90\n",
      "Plesse input a value: Kamya\n",
      "Dictionary= {'Harsh': '34', '90': 'Kamya'}\n"
     ]
    }
   ],
   "source": [
    "#Create and print a dictionary.\n",
    "d={}\n",
    "n=int(input(\"Enter number of keys: \"))\n",
    "for i in range(n):\n",
    "    k=input(\"Please input a key: \") \n",
    "    v=input(\"Plesse input a value: \") \n",
    "    d.update({k:v})\n",
    "print(\"Dictionary=\",d)    "
   ]
  },
  {
   "cell_type": "code",
   "execution_count": 3,
   "id": "b24d7e09",
   "metadata": {},
   "outputs": [
    {
     "name": "stdout",
     "output_type": "stream",
     "text": [
      "Length of dictionary is 2\n"
     ]
    }
   ],
   "source": [
    "#Calculate the length of dictionary.\n",
    "d= {'Harsh': '34', '90': 'Kamya'}\n",
    "print(\"Length of dictionary is\",len(d))"
   ]
  },
  {
   "cell_type": "code",
   "execution_count": 4,
   "id": "6c05fc81",
   "metadata": {},
   "outputs": [
    {
     "name": "stdout",
     "output_type": "stream",
     "text": [
      "39\n"
     ]
    }
   ],
   "source": [
    "#Evaluate a string and a number.\n",
    "print(eval(\"5*6+9\"))"
   ]
  },
  {
   "cell_type": "code",
   "execution_count": 5,
   "id": "bc3ac5d1",
   "metadata": {},
   "outputs": [
    {
     "name": "stdout",
     "output_type": "stream",
     "text": [
      "Length of String is 23\n"
     ]
    }
   ],
   "source": [
    "#Calculate length of a string.\n",
    "n=\"HI i am learning Python\"\n",
    "print(\"Length of String is\",len(n))"
   ]
  },
  {
   "cell_type": "code",
   "execution_count": 7,
   "id": "6b9a568c",
   "metadata": {},
   "outputs": [
    {
     "name": "stdout",
     "output_type": "stream",
     "text": [
      "No. of spaces are 4\n"
     ]
    }
   ],
   "source": [
    "#Count the number of spaces in a sring.\n",
    "n=\"HI i am learning Python\"\n",
    "k=0\n",
    "for i in n:\n",
    "    if i==\" \":\n",
    "        k=k+1\n",
    "print(\"No. of spaces are\",k)        "
   ]
  }
 ],
 "metadata": {
  "kernelspec": {
   "display_name": "Python 3",
   "language": "python",
   "name": "python3"
  },
  "language_info": {
   "codemirror_mode": {
    "name": "ipython",
    "version": 3
   },
   "file_extension": ".py",
   "mimetype": "text/x-python",
   "name": "python",
   "nbconvert_exporter": "python",
   "pygments_lexer": "ipython3",
   "version": "3.8.8"
  }
 },
 "nbformat": 4,
 "nbformat_minor": 5
}
