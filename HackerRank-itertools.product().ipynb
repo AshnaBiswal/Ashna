{
 "cells": [
  {
   "cell_type": "code",
   "execution_count": 3,
   "id": "c9f253a0",
   "metadata": {},
   "outputs": [
    {
     "name": "stdout",
     "output_type": "stream",
     "text": [
      "Enter values in list A\n",
      "1 2\n",
      "Enter values in list B\n",
      "3 4\n",
      "A X B = (1, 3) (1, 4) (2, 3) (2, 4) "
     ]
    }
   ],
   "source": [
    "#You are given a two lists A and B. Your task is to compute their cartesian product A X B.\n",
    "print(\"Enter values in list A\")\n",
    "a=list(map(int,input().split()))\n",
    "print(\"Enter values in list B\")\n",
    "b=list(map(int,input().split()))\n",
    "from itertools import product\n",
    "d=list(product(a,b))\n",
    "print(\"A X B =\",end=\" \")\n",
    "for i in d:\n",
    "    print(i,end=\" \")"
   ]
  }
 ],
 "metadata": {
  "kernelspec": {
   "display_name": "Python 3",
   "language": "python",
   "name": "python3"
  },
  "language_info": {
   "codemirror_mode": {
    "name": "ipython",
    "version": 3
   },
   "file_extension": ".py",
   "mimetype": "text/x-python",
   "name": "python",
   "nbconvert_exporter": "python",
   "pygments_lexer": "ipython3",
   "version": "3.8.8"
  }
 },
 "nbformat": 4,
 "nbformat_minor": 5
}
