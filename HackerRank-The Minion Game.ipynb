{
 "cells": [
  {
   "cell_type": "markdown",
   "id": "063aa83b",
   "metadata": {},
   "source": [
    "Kevin and Stuart want to play the 'The Minion Game'\n",
    "# Game Rules\n",
    "\n",
    "Both players are given the same string,S .\n",
    "\n",
    "Both players have to make substrings using the letters of the string S.\n",
    "\n",
    "Stuart has to make words starting with consonants.\n",
    "\n",
    "Kevin has to make words starting with vowels.\n",
    "\n",
    "The game ends when both players have made all possible substrings.\n",
    "# Scoring\n",
    "A player gets +1 point for each occurrence of the substring in the string S.\n",
    "# For Example:\n",
    "String S = BANANA\n",
    "Kevin's vowel beginning word = ANA\n",
    "Here, ANA occurs twice in BANANA. Hence, Kevin will get 2 Points.\n",
    "# Prints\n",
    "\n",
    "string: the winner's name and score, separated by a space on one line, or Draw if there is no winner"
   ]
  },
  {
   "cell_type": "code",
   "execution_count": 5,
   "id": "6257572b",
   "metadata": {},
   "outputs": [
    {
     "name": "stdout",
     "output_type": "stream",
     "text": [
      "stuart 12\n"
     ]
    }
   ],
   "source": [
    "l=\"BANANA\"\n",
    "v=0\n",
    "c=0\n",
    "s=len(l)\n",
    "for i in range(s):\n",
    "    if l[i] in \"AEIOU\":\n",
    "        v=v+(s-i)\n",
    "    else:\n",
    "        c=c+(s-i)\n",
    "if c>v:        \n",
    "    print(\"stuart\",c)  \n",
    "elif c==v:\n",
    "    print(\"Draw\")\n",
    "else:\n",
    "    print(\"kevin\",v)        "
   ]
  }
 ],
 "metadata": {
  "kernelspec": {
   "display_name": "Python 3",
   "language": "python",
   "name": "python3"
  },
  "language_info": {
   "codemirror_mode": {
    "name": "ipython",
    "version": 3
   },
   "file_extension": ".py",
   "mimetype": "text/x-python",
   "name": "python",
   "nbconvert_exporter": "python",
   "pygments_lexer": "ipython3",
   "version": "3.8.8"
  }
 },
 "nbformat": 4,
 "nbformat_minor": 5
}
