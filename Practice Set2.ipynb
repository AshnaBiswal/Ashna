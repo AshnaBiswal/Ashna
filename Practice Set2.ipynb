{
 "cells": [
  {
   "cell_type": "code",
   "execution_count": 1,
   "id": "4b2596f1",
   "metadata": {},
   "outputs": [
    {
     "name": "stdout",
     "output_type": "stream",
     "text": [
      "21\n",
      "0 1 1 2 3 5 8 13 21 34 55 89 144 233 377 610 987 1597 2584 4181 6765 "
     ]
    }
   ],
   "source": [
    "#Python Program to Print the Fibonacci sequence.\n",
    "n=int(input(\"\"))\n",
    "prev=0\n",
    "cur=1\n",
    "print(prev,cur,end=\" \")\n",
    "for i in range(n-2):\n",
    "    next=prev+cur\n",
    "    prev=cur\n",
    "    cur=next\n",
    "    print(next,end=\" \")"
   ]
  },
  {
   "cell_type": "code",
   "execution_count": 3,
   "id": "d7d52f70",
   "metadata": {},
   "outputs": [
    {
     "name": "stdout",
     "output_type": "stream",
     "text": [
      "371\n",
      "371  is a Armstrong Number.\n"
     ]
    }
   ],
   "source": [
    "#Python Program to Check Armstrong Number (for 3 digits)\n",
    "n=int(input(\"\"))\n",
    "sum=0\n",
    "temp=n\n",
    "while temp>0:\n",
    "    r=temp%10\n",
    "    sum=sum+(r*r*r)\n",
    "    temp=int(temp/10)\n",
    "if sum==n:\n",
    "    print(n,\" is a Armstrong Number.\")\n",
    "else:\n",
    "    print(n,\" is not a Armstrong Number.\")"
   ]
  },
  {
   "cell_type": "code",
   "execution_count": 5,
   "id": "b9574e11",
   "metadata": {},
   "outputs": [
    {
     "name": "stdout",
     "output_type": "stream",
     "text": [
      "12345\n",
      "225\n"
     ]
    }
   ],
   "source": [
    "# Find the sum of the cube of each digit.\n",
    "n=int(input(\"\"))\n",
    "sum=0\n",
    "while n>0:\n",
    "    r=n%10\n",
    "    sum=sum+(r*r*r)\n",
    "    n=int(n/10)\n",
    "print(sum)"
   ]
  },
  {
   "cell_type": "code",
   "execution_count": 8,
   "id": "0f815e77",
   "metadata": {},
   "outputs": [
    {
     "name": "stdout",
     "output_type": "stream",
     "text": [
      "Enter upper limit: 1\n",
      "Enter lower limit: 500\n",
      "1  is a Armstrong Number.\n",
      "153  is a Armstrong Number.\n",
      "370  is a Armstrong Number.\n",
      "371  is a Armstrong Number.\n",
      "407  is a Armstrong Number.\n"
     ]
    }
   ],
   "source": [
    "#Python Program to Find Armstrong Number in an Interval.\n",
    "n=int(input(\"Enter upper limit: \"))\n",
    "m=int(input(\"Enter lower limit: \"))\n",
    "for i in range(n,m+1):\n",
    "    sum=0\n",
    "    temp=i\n",
    "    while temp>0:\n",
    "        r=temp%10\n",
    "        sum=sum+(r*r*r)\n",
    "        temp=int(temp/10)\n",
    "    if sum==i:\n",
    "        print(i,\" is a Armstrong Number.\")"
   ]
  },
  {
   "cell_type": "code",
   "execution_count": 10,
   "id": "1dd1095b",
   "metadata": {},
   "outputs": [
    {
     "name": "stdout",
     "output_type": "stream",
     "text": [
      "10\n",
      "Sum = 55\n"
     ]
    }
   ],
   "source": [
    "#Python Program to Find the Sum of Natural Numbers.\n",
    "n=int(input(\"\"))\n",
    "sum=0\n",
    "for i in range(n+1):\n",
    "    sum=sum+i\n",
    "print(\"Sum =\",sum)    "
   ]
  },
  {
   "cell_type": "code",
   "execution_count": 11,
   "id": "4ac2c7ae",
   "metadata": {},
   "outputs": [
    {
     "name": "stdout",
     "output_type": "stream",
     "text": [
      "2 raised to the power  0  is  1\n",
      "2 raised to the power  1  is  2\n",
      "2 raised to the power  2  is  4\n",
      "2 raised to the power  3  is  8\n",
      "2 raised to the power  4  is  16\n",
      "2 raised to the power  5  is  32\n",
      "2 raised to the power  6  is  64\n",
      "2 raised to the power  7  is  128\n",
      "2 raised to the power  8  is  256\n",
      "2 raised to the power  9  is  512\n"
     ]
    }
   ],
   "source": [
    "#Python Program To Display Powers of 2 Using Anonymous Function.\n",
    "n=10\n",
    "for i in range(10):\n",
    "    g=lambda i:2**i\n",
    "    print(\"2 raised to the power \",i,\" is \",g(i))"
   ]
  },
  {
   "cell_type": "code",
   "execution_count": 14,
   "id": "460e4603",
   "metadata": {},
   "outputs": [
    {
     "name": "stdout",
     "output_type": "stream",
     "text": [
      "Enter no. of numbers u want in a list: 4\n",
      "Enter  4  nos:\n",
      "77\n",
      "95\n",
      "89\n",
      "50\n",
      "[77, 95, 89, 50]\n",
      "Enter a number: 5\n",
      "Numbers divisible by 5 are:\n",
      "95 50 "
     ]
    }
   ],
   "source": [
    "#Python Program to Find Numbers Divisible by Another Number.\n",
    "l=[]\n",
    "n=int(input(\"Enter no. of numbers u want in a list: \"))\n",
    "print(\"Enter \",n,\" nos:\")\n",
    "for i in range(n):\n",
    "    new_l=int(input())\n",
    "    l.append(new_l)\n",
    "print(l)\n",
    "m=int(input(\"Enter a number: \"))\n",
    "print(\"Numbers divisible by\",m,\"are:\")\n",
    "for i in l:\n",
    "    if i%m==0:\n",
    "        print(i,end=\" \")"
   ]
  },
  {
   "cell_type": "code",
   "execution_count": 17,
   "id": "10415ba4",
   "metadata": {},
   "outputs": [
    {
     "name": "stdout",
     "output_type": "stream",
     "text": [
      "Enter a number: 55\n",
      "Binary number: \n",
      "110111\n"
     ]
    }
   ],
   "source": [
    "#Python Program to Convert Decimal to Binary.\n",
    "n=int(input(\"Enter a number: \"))\n",
    "s=\"\"\n",
    "while n>=1:\n",
    "    r=n%2\n",
    "    s=s+str(r)\n",
    "    n=int(n/2)\n",
    "print(\"Binary number: \")      \n",
    "print(s[::-1])"
   ]
  },
  {
   "cell_type": "code",
   "execution_count": 19,
   "id": "471d9e66",
   "metadata": {},
   "outputs": [
    {
     "name": "stdout",
     "output_type": "stream",
     "text": [
      "Enter a number: 65535\n",
      "Hexadecimal Number:  FFFF\n"
     ]
    }
   ],
   "source": [
    "#Python Program to Convert Decimal to Hexadecimal.\n",
    "n=int(input(\"Enter a number: \"))\n",
    "s=\"\"\n",
    "while n>0:\n",
    "    r=n%16\n",
    "    if r>=10:\n",
    "        if r==10:\n",
    "            r=\"A\"\n",
    "        elif r==11:\n",
    "            r=\"B\"\n",
    "        elif r==12:\n",
    "            r=\"C\"\n",
    "        elif r==13:\n",
    "            r=\"D\"\n",
    "        elif r==14:\n",
    "            r=\"E\"\n",
    "        else:\n",
    "            r=\"F\"\n",
    "    s=s+str(r)\n",
    "    n=int(n/16)\n",
    "print(\"Hexadecimal Number: \",s[::-1])"
   ]
  },
  {
   "cell_type": "code",
   "execution_count": 21,
   "id": "7272c9e6",
   "metadata": {},
   "outputs": [
    {
     "name": "stdout",
     "output_type": "stream",
     "text": [
      "g\n",
      "The ASCII value of  g  is  103\n"
     ]
    }
   ],
   "source": [
    "#Python Program to Find ASCII Value of Character.\n",
    "character=input(\"\")\n",
    "print(\"The ASCII value of \",character,\" is \",ord(character))"
   ]
  }
 ],
 "metadata": {
  "kernelspec": {
   "display_name": "Python 3",
   "language": "python",
   "name": "python3"
  },
  "language_info": {
   "codemirror_mode": {
    "name": "ipython",
    "version": 3
   },
   "file_extension": ".py",
   "mimetype": "text/x-python",
   "name": "python",
   "nbconvert_exporter": "python",
   "pygments_lexer": "ipython3",
   "version": "3.8.8"
  }
 },
 "nbformat": 4,
 "nbformat_minor": 5
}
