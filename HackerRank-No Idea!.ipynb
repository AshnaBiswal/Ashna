{
 "cells": [
  {
   "cell_type": "code",
   "execution_count": 3,
   "id": "98fddbda",
   "metadata": {},
   "outputs": [
    {
     "name": "stdout",
     "output_type": "stream",
     "text": [
      "Enter the no. elements in list and the no. of elements in both the sets\n",
      "3 2\n",
      "Enter the elements of the list\n",
      "1 5 3\n",
      "Enter the elements in set A\n",
      "3 1\n",
      "Enter the elements in set B\n",
      "5 7\n",
      "Final happiness:  1\n"
     ]
    }
   ],
   "source": [
    "#There is an array of n integers. There are also 2 disjoint sets, A and B, each containing M integers.\n",
    "#You like all the integers in set A and dislike all the integers in set B.\n",
    "#Your initial happiness is 0.\n",
    "#For each i integer in the array, if i∈A, you add 1 to your happiness. \n",
    "#If i∈B , you add -1 to your happiness.\n",
    "#Otherwise, your happiness does not change.\n",
    "#Output your final happiness at the end.\n",
    "#Note: Since A and B are sets, they have no repeated elements. However, the array might contain duplicate elements.\n",
    "print(\"Enter the no. elements in list and the no. of elements in both the sets\")\n",
    "n,m=map(int,input().split())\n",
    "print(\"Enter the elements of the list\")\n",
    "l=list(map(int,input().split()))\n",
    "print(\"Enter the elements in set A\")\n",
    "A=set(map(int,input().split()))\n",
    "print(\"Enter the elements in set B\")\n",
    "B=set(map(int,input().split()))\n",
    "\n",
    "k=0\n",
    "for i in l:\n",
    "    if i in B:\n",
    "        k=k-1\n",
    "    elif i in A:\n",
    "        k=k+1    \n",
    "print(\"Final happiness: \",k)"
   ]
  }
 ],
 "metadata": {
  "kernelspec": {
   "display_name": "Python 3",
   "language": "python",
   "name": "python3"
  },
  "language_info": {
   "codemirror_mode": {
    "name": "ipython",
    "version": 3
   },
   "file_extension": ".py",
   "mimetype": "text/x-python",
   "name": "python",
   "nbconvert_exporter": "python",
   "pygments_lexer": "ipython3",
   "version": "3.8.8"
  }
 },
 "nbformat": 4,
 "nbformat_minor": 5
}
