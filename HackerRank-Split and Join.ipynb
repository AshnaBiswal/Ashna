{
 "cells": [
  {
   "cell_type": "code",
   "execution_count": 2,
   "id": "714a3b1b",
   "metadata": {},
   "outputs": [
    {
     "data": {
      "text/plain": [
       "'Python-is-easy'"
      ]
     },
     "execution_count": 2,
     "metadata": {},
     "output_type": "execute_result"
    }
   ],
   "source": [
    "#Given a string. Split the string on a \" \" (space) delimiter and join using a - hyphen.\n",
    "def split_and_join(line):\n",
    "    n=line.split()\n",
    "    m=\"\"\n",
    "    q=len(n)\n",
    "    l=0\n",
    "    for i in n:\n",
    "        m=m+i\n",
    "        if l<q-1:\n",
    "            m=m+\"-\"\n",
    "            l=l+1\n",
    "    return m\n",
    "split_and_join(\"Python is easy\")"
   ]
  }
 ],
 "metadata": {
  "kernelspec": {
   "display_name": "Python 3",
   "language": "python",
   "name": "python3"
  },
  "language_info": {
   "codemirror_mode": {
    "name": "ipython",
    "version": 3
   },
   "file_extension": ".py",
   "mimetype": "text/x-python",
   "name": "python",
   "nbconvert_exporter": "python",
   "pygments_lexer": "ipython3",
   "version": "3.8.8"
  }
 },
 "nbformat": 4,
 "nbformat_minor": 5
}
