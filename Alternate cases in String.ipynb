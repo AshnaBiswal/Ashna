{
 "cells": [
  {
   "cell_type": "code",
   "execution_count": 2,
   "id": "a4a0be7f",
   "metadata": {},
   "outputs": [
    {
     "name": "stdout",
     "output_type": "stream",
     "text": [
      "Original string:                     GeeksforGeeks is a computer Science portal for Geeks\n",
      "String after alternating cases:      gEEKSFORgEEKS IS A COMPUTER sCIENCE PORTAL FOR gEEKS\n"
     ]
    }
   ],
   "source": [
    "# Alternate cases in String.\n",
    "n='GeeksforGeeks is a computer Science portal for Geeks'\n",
    "s=\"\"\n",
    "for i in n:\n",
    "    if 65<=ord(i)<=90:\n",
    "        i=i.lower()\n",
    "        s=s+i\n",
    "    else:\n",
    "        i=i.upper()\n",
    "        s=s+i\n",
    "print(\"Original string:                    \",n)        \n",
    "print(\"String after alternating cases:     \",s)        "
   ]
  }
 ],
 "metadata": {
  "kernelspec": {
   "display_name": "Python 3",
   "language": "python",
   "name": "python3"
  },
  "language_info": {
   "codemirror_mode": {
    "name": "ipython",
    "version": 3
   },
   "file_extension": ".py",
   "mimetype": "text/x-python",
   "name": "python",
   "nbconvert_exporter": "python",
   "pygments_lexer": "ipython3",
   "version": "3.8.8"
  }
 },
 "nbformat": 4,
 "nbformat_minor": 5
}
