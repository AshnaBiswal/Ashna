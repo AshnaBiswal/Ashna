{
 "cells": [
  {
   "cell_type": "code",
   "execution_count": 2,
   "id": "e326c0dd",
   "metadata": {},
   "outputs": [
    {
     "name": "stdout",
     "output_type": "stream",
     "text": [
      "Enter the number of words u want5\n",
      "am\n",
      "python\n",
      "jupyter\n",
      "notebook\n",
      "i\n",
      "Before sorting:  ['am', 'python', 'jupyter', 'notebook', 'i']\n",
      "After sorting:  ['am', 'i', 'jupyter', 'notebook', 'python']\n"
     ]
    }
   ],
   "source": [
    "#Python Program to Sort Words in Alphabetic Order.\n",
    "n=int(input(\"Enter the number of words u want\"))\n",
    "m=[]\n",
    "for i in range(n):\n",
    "    l=input()\n",
    "    m.append(l)\n",
    "print(\"Before sorting: \",m)    \n",
    "m.sort()\n",
    "print(\"After sorting: \",m)    "
   ]
  },
  {
   "cell_type": "code",
   "execution_count": 3,
   "id": "5c9df957",
   "metadata": {},
   "outputs": [
    {
     "name": "stdout",
     "output_type": "stream",
     "text": [
      "Union:  {0, 'xyz', 'abc', 8, 9}\n",
      "Intersection:  {9, 'xyz'}\n",
      "Set Difference:  {'abc'}\n",
      "Symmetric Difference:  {0, 'abc', 8}\n"
     ]
    }
   ],
   "source": [
    "#Python Program to Illustrate Different Set Operations.\n",
    "s1={'abc',9,'xyz'}\n",
    "s2={0,8,'xyz',9}\n",
    "print(\"Union: \",s1.union(s2))\n",
    "print(\"Intersection: \",s1.intersection(s2))\n",
    "print(\"Set Difference: \",s1-s2)\n",
    "print(\"Symmetric Difference: \",s1^s2)"
   ]
  },
  {
   "cell_type": "code",
   "execution_count": 6,
   "id": "9c5442cc",
   "metadata": {},
   "outputs": [
    {
     "name": "stdout",
     "output_type": "stream",
     "text": [
      "Enter a string: HI i am learning pyThOn\n",
      " a = 2 times\n",
      " e = 1 times\n",
      " i = 3 times\n",
      " o = 1 times\n",
      " u = 0 times\n"
     ]
    }
   ],
   "source": [
    "#Python Program to Count the Number of Each Vowel.\n",
    "m=input(\"Enter a string: \")\n",
    "c1=0\n",
    "c2=0\n",
    "c3=0\n",
    "c4=0\n",
    "c5=0\n",
    "n=m.lower()\n",
    "for z in n:\n",
    "    if z=='a':\n",
    "        c1=c1+1\n",
    "    elif z=='e':\n",
    "        c2=c2+1\n",
    "    elif z=='i':\n",
    "        c3=c3+1\n",
    "    elif z=='o':\n",
    "        c4=c4+1\n",
    "    elif z=='u':\n",
    "        c5=c5+1\n",
    "print(\" a =\",c1,\"times\\n\",\"e =\",c2,\"times\\n\",\"i =\",c3,\"times\\n\",\"o =\",c4,\"times\\n\",\"u =\",c5,\"times\")        "
   ]
  },
  {
   "cell_type": "code",
   "execution_count": 8,
   "id": "615ec188",
   "metadata": {},
   "outputs": [
    {
     "name": "stdout",
     "output_type": "stream",
     "text": [
      "{'a': 2, 'e': 1, 'i': 3, 'o': 1, 'u': 0}\n"
     ]
    }
   ],
   "source": [
    "#Python Program to Count the Number of Each Vowel Using a list and a dictionary comprehension.\n",
    "n=\"HI i am learning pyThOn\"\n",
    "n=n.lower()\n",
    "m=\"aeiou\"\n",
    "d={i:sum([1 for j in n if i==j])for i in m}\n",
    "print(d)"
   ]
  },
  {
   "cell_type": "code",
   "execution_count": 11,
   "id": "d499a8bd",
   "metadata": {},
   "outputs": [
    {
     "name": "stdout",
     "output_type": "stream",
     "text": [
      "[1, 2, 3, 4]\n",
      "[5, 6, 7, 8]\n",
      "[9, 10, 11, 12]\n"
     ]
    }
   ],
   "source": [
    "#Python Program Given a list slice it into a 3 equal chunks.\n",
    "def chunks(l):\n",
    "    p=int(len(l)/3)\n",
    "    k=0\n",
    "    for i in range(0,len(l),p):\n",
    "        m=l[i:i+p]\n",
    "        k=k+1\n",
    "        if k<=3:\n",
    "            print(m)\n",
    "        \n",
    "\n",
    "chunks([1,2,3,4,5,6,7,8,9,10,11,12,13])"
   ]
  },
  {
   "cell_type": "code",
   "execution_count": 12,
   "id": "77475c0a",
   "metadata": {},
   "outputs": [
    {
     "name": "stdout",
     "output_type": "stream",
     "text": [
      "Enter a number: 7\n",
      "Enter the exponent: 3\n",
      "7 ^ 3 = 343\n"
     ]
    }
   ],
   "source": [
    "#write a program to calculate exponents of an input.\n",
    "n=int(input(\"Enter a number: \"))\n",
    "m=int(input(\"Enter the exponent: \"))\n",
    "print(n,\"^\",m,\"=\",n**m)"
   ]
  },
  {
   "cell_type": "code",
   "execution_count": 15,
   "id": "20f3efd6",
   "metadata": {},
   "outputs": [
    {
     "name": "stdout",
     "output_type": "stream",
     "text": [
      "Enter the no. of rows in matrix 1: 2\n",
      "Enter the no. of columns in matrix 1/no. of rows in matrix 2 : 2\n",
      "Enter the no. of cols in matrix 2: 2\n",
      "Enter the elements of matrix 1: \n",
      "1\n",
      "2\n",
      "3\n",
      "4\n",
      "matrix 1= \n",
      "1  2   \n",
      "3  4   \n",
      "Enter the elements matrix 2: \n",
      "5\n",
      "6\n",
      "7\n",
      "8\n",
      "matrix 2= \n",
      "5  6   \n",
      "7  8   \n",
      "Resultant matrix= \n",
      "19  22   \n",
      "43  50   \n"
     ]
    }
   ],
   "source": [
    "#write a program to multiply two Matrix.\n",
    "p=int(input(\"Enter the no. of rows in matrix 1: \"))\n",
    "n=int(input(\"Enter the no. of columns in matrix 1/no. of rows in matrix 2 : \"))\n",
    "q=int(input(\"Enter the no. of cols in matrix 2: \"))\n",
    "\n",
    "print(\"Enter the elements of matrix 1: \")\n",
    "matrix_1=[[int(input())for j in range(n)]for i in range(p)]\n",
    "print(\"matrix 1= \")\n",
    "for i in range(p):\n",
    "    for j in range(n):\n",
    "        print(matrix_1[i][j],\" \",end=\"\")\n",
    "    print(\" \")   \n",
    "print(\"Enter the elements matrix 2: \")   \n",
    "matrix_2=[[int(input())for j in range(q)]for i in range(n)]\n",
    "print(\"matrix 2= \")\n",
    "for i in range(n):\n",
    "    for j in range(q):\n",
    "        print(matrix_2[i][j],\" \",end=\"\")\n",
    "    print(\" \")  \n",
    "    \n",
    "result=[[0 for j in range(q)]for i in range(p)]  \n",
    "    \n",
    "for i in range(p):\n",
    "    for j in range(q):\n",
    "        for k in range(n):\n",
    "            result[i][j]=result[i][j]+(matrix_1[i][k]*matrix_2[k][j])\n",
    "print(\"Resultant matrix= \")       \n",
    "for i in range(p):\n",
    "    for j in range(q):\n",
    "        print(result[i][j],\" \",end=\"\")\n",
    "    print(\" \")  "
   ]
  },
  {
   "cell_type": "code",
   "execution_count": 17,
   "id": "075aa2c9",
   "metadata": {},
   "outputs": [
    {
     "name": "stdout",
     "output_type": "stream",
     "text": [
      "Enter 1st no.: 99\n",
      "Enter 2nd no.: 5\n",
      "Remainder of 99 and 5 is 4\n"
     ]
    }
   ],
   "source": [
    "#write a program to find and print the remainder of two number.\n",
    "n1=int(input(\"Enter 1st no.: \"))\n",
    "n2=int(input(\"Enter 2nd no.: \"))\n",
    "print(\"Remainder of\",n1,\"and\",n2,\"is\",n1%n2)"
   ]
  },
  {
   "cell_type": "code",
   "execution_count": 18,
   "id": "6ab7fa79",
   "metadata": {},
   "outputs": [
    {
     "name": "stdout",
     "output_type": "stream",
     "text": [
      "Enter a number: 146\n",
      "Sum of digits is: 11\n"
     ]
    }
   ],
   "source": [
    "#Python program to compute sum of digits in number.\n",
    "n=int(input(\"Enter a number: \"))\n",
    "sum=0\n",
    "while n>0:\n",
    "    r=n%10\n",
    "    sum=sum+r\n",
    "    n=int(n/10)\n",
    "print(\"Sum of digits is:\",sum)    "
   ]
  },
  {
   "cell_type": "code",
   "execution_count": null,
   "id": "c1880951",
   "metadata": {},
   "outputs": [
    {
     "name": "stdout",
     "output_type": "stream",
     "text": [
      "Enter the no. of elements you want in list: 5\n",
      "7\n",
      "89\n"
     ]
    }
   ],
   "source": [
    "#Python program to Sort the list in ascending order.\n",
    "l=[]\n",
    "n=int(input(\"Enter the no. of elements you want in list: \"))\n",
    "for i in range(n):\n",
    "    m=int(input())\n",
    "    l.append(m)\n",
    "print(\"list before sorting in ascending order:\",l)\n",
    "l.sort()\n",
    "print(\"list after sorting in ascending order:\",l)    "
   ]
  },
  {
   "cell_type": "code",
   "execution_count": null,
   "id": "09642091",
   "metadata": {},
   "outputs": [],
   "source": []
  }
 ],
 "metadata": {
  "kernelspec": {
   "display_name": "Python 3",
   "language": "python",
   "name": "python3"
  },
  "language_info": {
   "codemirror_mode": {
    "name": "ipython",
    "version": 3
   },
   "file_extension": ".py",
   "mimetype": "text/x-python",
   "name": "python",
   "nbconvert_exporter": "python",
   "pygments_lexer": "ipython3",
   "version": "3.8.8"
  }
 },
 "nbformat": 4,
 "nbformat_minor": 5
}
