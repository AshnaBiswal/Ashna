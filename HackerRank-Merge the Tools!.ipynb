{
 "cells": [
  {
   "cell_type": "code",
   "execution_count": 2,
   "id": "641451da",
   "metadata": {},
   "outputs": [
    {
     "name": "stdout",
     "output_type": "stream",
     "text": [
      "AB\n",
      "CA\n",
      "AD\n"
     ]
    }
   ],
   "source": [
    "#Input: AABCAAADA   3       Output: AB CA AD\n",
    "#There are three substrings of length 3 to consider: 'AAB', 'CAA' and 'ADA'.\n",
    "#In output it will return all distinct characters from each subsrting.\n",
    "#Note that a subsequence maintains the original order of characters encountered.\n",
    "#The order of characters in each subsequence shown is important.\n",
    "\n",
    "def merge_the_tools(string, k):\n",
    "    for i in range(0,len(string),k):\n",
    "        q=[]\n",
    "        l=list(string)\n",
    "        m=l[i:i+k]\n",
    "        for i in m:\n",
    "            if i not in q:\n",
    "                q.append(i)\n",
    "        print(''.join(q))\n",
    "        \n",
    "merge_the_tools(\"AABCAAADA\",3)"
   ]
  }
 ],
 "metadata": {
  "kernelspec": {
   "display_name": "Python 3",
   "language": "python",
   "name": "python3"
  },
  "language_info": {
   "codemirror_mode": {
    "name": "ipython",
    "version": 3
   },
   "file_extension": ".py",
   "mimetype": "text/x-python",
   "name": "python",
   "nbconvert_exporter": "python",
   "pygments_lexer": "ipython3",
   "version": "3.8.8"
  }
 },
 "nbformat": 4,
 "nbformat_minor": 5
}
