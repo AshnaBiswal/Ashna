{
 "cells": [
  {
   "cell_type": "code",
   "execution_count": 1,
   "id": "21722c32",
   "metadata": {},
   "outputs": [
    {
     "name": "stdout",
     "output_type": "stream",
     "text": [
      "Enter a number: 12345\n",
      "Number after reversing order:\n",
      "54321"
     ]
    }
   ],
   "source": [
    "# Write a program to extract each digit from an integer, in the reverse order.\n",
    "n=int(input(\"Enter a number: \"))\n",
    "print(\"Number after reversing order:\")\n",
    "while n>0:\n",
    "    r=n%10\n",
    "    print(r,end=\"\")\n",
    "    n=n//10"
   ]
  },
  {
   "cell_type": "code",
   "execution_count": 2,
   "id": "2accbd40",
   "metadata": {},
   "outputs": [
    {
     "name": "stdout",
     "output_type": "stream",
     "text": [
      "Enter the number u want to remove: 7\n",
      "List after removing 7 is [1, 9, 4, 1, 9]\n"
     ]
    }
   ],
   "source": [
    "# Given a Python list, remove all occurrence of a given number from the list.\n",
    "n=[1,7,9,4,7,1,7,9]\n",
    "m=int(input(\"Enter the number u want to remove: \"))\n",
    "while m in n:\n",
    "    n.remove(m)\n",
    "print(\"List after removing\",m,\"is\",n)   "
   ]
  },
  {
   "cell_type": "code",
   "execution_count": 3,
   "id": "ea33edfb",
   "metadata": {},
   "outputs": [
    {
     "name": "stdout",
     "output_type": "stream",
     "text": [
      "After shuffling list randomly: ['a', 'c', 'v']\n"
     ]
    }
   ],
   "source": [
    "# Shuffle a list randomly.\n",
    "import random\n",
    "n=[\"a\",\"c\",\"v\"]\n",
    "random.shuffle(n)\n",
    "print(\"After shuffling list randomly:\",n)"
   ]
  },
  {
   "cell_type": "code",
   "execution_count": 5,
   "id": "65086773",
   "metadata": {},
   "outputs": [
    {
     "name": "stdout",
     "output_type": "stream",
     "text": [
      "size of n: 80 bytes\n",
      "size of m: 72 bytes\n"
     ]
    }
   ],
   "source": [
    "# Calculate memory is being used by an list in Python.\n",
    "import sys\n",
    "n=[1,2,4]\n",
    "m=[\"a\",\"b\"]\n",
    "print(\"size of n:\",sys.getsizeof(n),\"bytes\")\n",
    "print(\"size of m:\",sys.getsizeof(m),\"bytes\")"
   ]
  },
  {
   "cell_type": "code",
   "execution_count": 7,
   "id": "6a40cacf",
   "metadata": {},
   "outputs": [
    {
     "name": "stdout",
     "output_type": "stream",
     "text": [
      "Identical\n"
     ]
    }
   ],
   "source": [
    "# Find if all elements in a list are identical.\n",
    "n=[1,1,1,1]\n",
    "f=1\n",
    "for i in range(len(n)-1):\n",
    "    if n[i]!=n[i+1]:\n",
    "        f=0\n",
    "        break\n",
    "if f==1:\n",
    "    print(\"Identical\")\n",
    "else:\n",
    "    print(\"Not Identical\")"
   ]
  }
 ],
 "metadata": {
  "kernelspec": {
   "display_name": "Python 3",
   "language": "python",
   "name": "python3"
  },
  "language_info": {
   "codemirror_mode": {
    "name": "ipython",
    "version": 3
   },
   "file_extension": ".py",
   "mimetype": "text/x-python",
   "name": "python",
   "nbconvert_exporter": "python",
   "pygments_lexer": "ipython3",
   "version": "3.8.8"
  }
 },
 "nbformat": 4,
 "nbformat_minor": 5
}
