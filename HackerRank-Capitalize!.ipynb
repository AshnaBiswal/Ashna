{
 "cells": [
  {
   "cell_type": "code",
   "execution_count": 3,
   "id": "c879ea25",
   "metadata": {},
   "outputs": [
    {
     "data": {
      "text/plain": [
       "'Hello  World Lol'"
      ]
     },
     "execution_count": 3,
     "metadata": {},
     "output_type": "execute_result"
    }
   ],
   "source": [
    "#Given a String, your task is to capitalize the String appropriately.\n",
    "#Input: hello  world lol          Output: Hello  World Lol\n",
    "\n",
    "def solve(s):\n",
    "    for i in range(len(s)):\n",
    "        if s[i]==\" \":\n",
    "            l=list(s)\n",
    "            l[0]=l[0].upper()\n",
    "            l[i+1]=l[i+1].upper()\n",
    "            s=''.join(l)   \n",
    "    return s\n",
    "solve(\"hello  world lol\")"
   ]
  }
 ],
 "metadata": {
  "kernelspec": {
   "display_name": "Python 3",
   "language": "python",
   "name": "python3"
  },
  "language_info": {
   "codemirror_mode": {
    "name": "ipython",
    "version": 3
   },
   "file_extension": ".py",
   "mimetype": "text/x-python",
   "name": "python",
   "nbconvert_exporter": "python",
   "pygments_lexer": "ipython3",
   "version": "3.8.8"
  }
 },
 "nbformat": 4,
 "nbformat_minor": 5
}
