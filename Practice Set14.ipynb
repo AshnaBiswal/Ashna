{
 "cells": [
  {
   "cell_type": "code",
   "execution_count": 1,
   "id": "b747affe",
   "metadata": {},
   "outputs": [
    {
     "name": "stdout",
     "output_type": "stream",
     "text": [
      "min: 2\n",
      "max: 89\n"
     ]
    }
   ],
   "source": [
    "#Python Program to find Largest and Smallest Number in a List.\n",
    "n=[7,55,89,2]\n",
    "print(\"min:\",min(n))\n",
    "print(\"max:\",max(n))"
   ]
  },
  {
   "cell_type": "code",
   "execution_count": 2,
   "id": "c198ee56",
   "metadata": {},
   "outputs": [
    {
     "name": "stdout",
     "output_type": "stream",
     "text": [
      "Numbers before swaping 5 9\n",
      "Numbers after swaping  9 5\n"
     ]
    }
   ],
   "source": [
    "#Python Program to Swap Two Numbers.\n",
    "n=5\n",
    "m=9\n",
    "print(\"Numbers before swaping\",n,m)\n",
    "temp=n\n",
    "n=m\n",
    "m=temp\n",
    "print(\"Numbers after swaping \",n,m)"
   ]
  },
  {
   "cell_type": "code",
   "execution_count": 3,
   "id": "b6866636",
   "metadata": {},
   "outputs": [
    {
     "name": "stdout",
     "output_type": "stream",
     "text": [
      "8 is greater\n"
     ]
    }
   ],
   "source": [
    "#Python Program to find Largest of Three Numbers.\n",
    "n=7\n",
    "m=8\n",
    "o=6\n",
    "if m>n and m>o:\n",
    "    print(m,\"is greater\")\n",
    "elif n>m and n>o:\n",
    "    print(n,\"is greater\")\n",
    "else:\n",
    "    print(o,\"is greater\")        "
   ]
  },
  {
   "cell_type": "code",
   "execution_count": 4,
   "id": "428ba12e",
   "metadata": {},
   "outputs": [
    {
     "name": "stdout",
     "output_type": "stream",
     "text": [
      "Diameter = 2\n",
      "Perimeter = 6.28\n",
      "Area = 3.14\n"
     ]
    }
   ],
   "source": [
    "#Python Program to find Diameter, Circumference, and Area Of a Circle.\n",
    "r=1\n",
    "print(\"Diameter =\",2*r)\n",
    "print(\"Perimeter =\",2*3.14*r)\n",
    "print(\"Area =\",3.14*r*r)"
   ]
  },
  {
   "cell_type": "code",
   "execution_count": 5,
   "id": "ec4cf6c6",
   "metadata": {},
   "outputs": [
    {
     "data": {
      "text/plain": [
       "'ABCDEF'"
      ]
     },
     "execution_count": 5,
     "metadata": {},
     "output_type": "execute_result"
    }
   ],
   "source": [
    "#Python Program to Convert String to Uppercase.\n",
    "n=\"abcdef\"\n",
    "n.upper()"
   ]
  },
  {
   "cell_type": "code",
   "execution_count": 6,
   "id": "2d0ffeac",
   "metadata": {},
   "outputs": [
    {
     "name": "stdout",
     "output_type": "stream",
     "text": [
      "Simple Interest = 210.0\n"
     ]
    }
   ],
   "source": [
    "#Python Program to Calculate Simple Interest.\n",
    "p=3000\n",
    "r=7\n",
    "t=1\n",
    "print(\"Simple Interest =\",(p*r*t)/100)"
   ]
  }
 ],
 "metadata": {
  "kernelspec": {
   "display_name": "Python 3",
   "language": "python",
   "name": "python3"
  },
  "language_info": {
   "codemirror_mode": {
    "name": "ipython",
    "version": 3
   },
   "file_extension": ".py",
   "mimetype": "text/x-python",
   "name": "python",
   "nbconvert_exporter": "python",
   "pygments_lexer": "ipython3",
   "version": "3.8.8"
  }
 },
 "nbformat": 4,
 "nbformat_minor": 5
}
