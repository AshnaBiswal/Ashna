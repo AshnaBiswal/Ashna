{
 "cells": [
  {
   "cell_type": "code",
   "execution_count": 2,
   "id": "fcfc42d4",
   "metadata": {},
   "outputs": [
    {
     "data": {
      "text/plain": [
       "'logloglog'"
      ]
     },
     "execution_count": 2,
     "metadata": {},
     "output_type": "execute_result"
    }
   ],
   "source": [
    "#Given a string and a non-negative int n, we'll say that the front of the string is the first 3 chars, \n",
    "#or whatever is there if the string is less than length 3. Return n copies of the front.\n",
    "\n",
    "def front_times(str,n):\n",
    "    a=str[:3]\n",
    "    return a*n\n",
    "\n",
    "front_times(\"login\",3)"
   ]
  },
  {
   "cell_type": "code",
   "execution_count": 5,
   "id": "8d3cae57",
   "metadata": {},
   "outputs": [
    {
     "data": {
      "text/plain": [
       "'HpyNwYa'"
      ]
     },
     "execution_count": 5,
     "metadata": {},
     "output_type": "execute_result"
    }
   ],
   "source": [
    "#Given a string, return a new string made of every other char starting with the first, so \"Hello\" yields \"Hlo\".\n",
    "\n",
    "def string_bits(str):\n",
    "    a= \"\"\n",
    "    for i in range(len(str)):\n",
    "        if i % 2 == 0:\n",
    "            a = a + str[i]\n",
    "    return a\n",
    "\n",
    "string_bits(\"Happy New Year\")    "
   ]
  },
  {
   "cell_type": "code",
   "execution_count": 19,
   "id": "b89fa1b2",
   "metadata": {},
   "outputs": [
    {
     "data": {
      "text/plain": [
       "'CCoCodCode'"
      ]
     },
     "execution_count": 19,
     "metadata": {},
     "output_type": "execute_result"
    }
   ],
   "source": [
    "#Given a non-empty string like \"Code\" return a string like \"CCoCodCode\".\n",
    "\n",
    "def string_oneincrement(str):\n",
    "    a=\"\"\n",
    "    for i in range(len(str)):\n",
    "        a = a + str[:i+1]\n",
    "    return a\n",
    "\n",
    "string_oneincrement(\"Code\")"
   ]
  },
  {
   "cell_type": "code",
   "execution_count": 33,
   "id": "121ea9d8",
   "metadata": {},
   "outputs": [
    {
     "data": {
      "text/plain": [
       "2"
      ]
     },
     "execution_count": 33,
     "metadata": {},
     "output_type": "execute_result"
    }
   ],
   "source": [
    "#Given a string, return the count of the number of times that a substring length 2 appears in the string \n",
    "#and also as the last 2 chars of the string, so \"hixxxhi\" yields 1 (we won't count the end substring).\n",
    "\n",
    "def last2(str):\n",
    "    last2=str[len(str)-2:]\n",
    "    count=0\n",
    "    for i in range(len(str)-2):\n",
    "        sub=str[i:i+2]\n",
    "        if sub==last2:\n",
    "            count=count+1\n",
    "    return count\n",
    "\n",
    "last2(\"1312121312\")"
   ]
  },
  {
   "cell_type": "code",
   "execution_count": 45,
   "id": "3045e8c1",
   "metadata": {},
   "outputs": [
    {
     "data": {
      "text/plain": [
       "4"
      ]
     },
     "execution_count": 45,
     "metadata": {},
     "output_type": "execute_result"
    }
   ],
   "source": [
    "#Given an array of ints, return the number of 9's in the array.\n",
    "\n",
    "def array_count9(nums):\n",
    "    count = 0\n",
    "    for num in nums:\n",
    "        if num==9:\n",
    "            count=count+1\n",
    "    return count\n",
    "array_count9([1,9,2,9,9,6,7,9,3])\n",
    "\n",
    "\n",
    "                   #OR\n",
    "         \n",
    "    \n",
    "#def array_count9(list):\n",
    "#    count=0\n",
    "#    for i in range(len(list)):\n",
    "#        a=list[i]\n",
    "#        if a==9:\n",
    "#            count=count+1\n",
    "#    return count\n",
    "#array_count9([1,9,2,9,9,6,7,9,3,9])"
   ]
  },
  {
   "cell_type": "code",
   "execution_count": 59,
   "id": "d2cad920",
   "metadata": {},
   "outputs": [
    {
     "data": {
      "text/plain": [
       "True"
      ]
     },
     "execution_count": 59,
     "metadata": {},
     "output_type": "execute_result"
    }
   ],
   "source": [
    "#Given an array of ints, return True if one of the first 4 elements in the array is a 9.\n",
    "#The array length may be less than 4.\n",
    "\n",
    "def array_front9(n):\n",
    "    if len(n)>4:\n",
    "        first=4\n",
    "    for i in range(first):\n",
    "        a=n[i]\n",
    "        if a==9:\n",
    "            return True\n",
    "    return False\n",
    "\n",
    "array_front9([1,1,9,9,6,7,9,3,9])"
   ]
  },
  {
   "cell_type": "code",
   "execution_count": 64,
   "id": "b4ddf29e",
   "metadata": {},
   "outputs": [
    {
     "data": {
      "text/plain": [
       "True"
      ]
     },
     "execution_count": 64,
     "metadata": {},
     "output_type": "execute_result"
    }
   ],
   "source": [
    "#Given an array of ints, return True if the sequence of numbers 1, 2, 3 appears in the array somewhere.\n",
    "\n",
    "def array123(n):\n",
    "    for i in range(len(n)-2):\n",
    "        if n[i]==1 and n[i+1]==2 and n[i+2]==3:\n",
    "            return True\n",
    "    return False   \n",
    "\n",
    "array123([1,2,3,1,2,4])"
   ]
  },
  {
   "cell_type": "code",
   "execution_count": 68,
   "id": "3c84c697",
   "metadata": {},
   "outputs": [
    {
     "data": {
      "text/plain": [
       "3"
      ]
     },
     "execution_count": 68,
     "metadata": {},
     "output_type": "execute_result"
    }
   ],
   "source": [
    "def string_match(a, b):\n",
    "    count=0\n",
    "    shorter = min(len(a), len(b))\n",
    "    for i in range(shorter-1):\n",
    "        sub1=a[i:i+2]\n",
    "        sub2=b[i:i+2]\n",
    "        if sub1==sub2:\n",
    "            count=count+1\n",
    "    return count\n",
    "\n",
    "string_match('iaxxai','aaxxaaxx')"
   ]
  },
  {
   "cell_type": "code",
   "execution_count": null,
   "id": "3bfd8b26",
   "metadata": {},
   "outputs": [],
   "source": []
  }
 ],
 "metadata": {
  "kernelspec": {
   "display_name": "Python 3",
   "language": "python",
   "name": "python3"
  },
  "language_info": {
   "codemirror_mode": {
    "name": "ipython",
    "version": 3
   },
   "file_extension": ".py",
   "mimetype": "text/x-python",
   "name": "python",
   "nbconvert_exporter": "python",
   "pygments_lexer": "ipython3",
   "version": "3.8.8"
  }
 },
 "nbformat": 4,
 "nbformat_minor": 5
}
