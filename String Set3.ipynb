{
 "cells": [
  {
   "cell_type": "code",
   "execution_count": 3,
   "id": "4cca14f6",
   "metadata": {},
   "outputs": [
    {
     "name": "stdout",
     "output_type": "stream",
     "text": [
      "{'a': 3, 's': 2, 'h': 1, 'n': 1, ' ': 1, 'b': 1, 'i': 1, 'w': 1, 'l': 1}\n"
     ]
    }
   ],
   "source": [
    "# Given an input string, count occurrences of all characters within a string.\n",
    "n=\"Ashna biswal\"\n",
    "n=n.lower()\n",
    "d={x:sum(1 for y in n if y==x)for x in n}\n",
    "print(d)"
   ]
  },
  {
   "cell_type": "code",
   "execution_count": 4,
   "id": "0b9f06f6",
   "metadata": {},
   "outputs": [
    {
     "data": {
      "text/plain": [
       "'lawsib anhsA'"
      ]
     },
     "execution_count": 4,
     "metadata": {},
     "output_type": "execute_result"
    }
   ],
   "source": [
    "# Reverse a given string.\n",
    "n=\"Ashna biswal\"\n",
    "n[::-1]"
   ]
  },
  {
   "cell_type": "code",
   "execution_count": 6,
   "id": "7e68462e",
   "metadata": {},
   "outputs": [
    {
     "name": "stdout",
     "output_type": "stream",
     "text": [
      "adhjg is     jgj \n"
     ]
    }
   ],
   "source": [
    "# Remove special symbols/Punctuation from a given string.\n",
    "n='!#$%&()*+,-./:;<=>?@[\\]^_`{|}~'\n",
    "v=\"adhjg, $is  : << ! jgj ;\"\n",
    "k=\"\"\n",
    "for i in v:\n",
    "    if i in n:\n",
    "        k=k\n",
    "    else:\n",
    "        k=k+i\n",
    "print(k)"
   ]
  },
  {
   "cell_type": "code",
   "execution_count": 7,
   "id": "f4474c16",
   "metadata": {},
   "outputs": [
    {
     "name": "stdout",
     "output_type": "stream",
     "text": [
      "45589034\n"
     ]
    }
   ],
   "source": [
    "# Removal all the characters other than integers from string.\n",
    "n=\"as45h5-8,.90+na34\"\n",
    "b=\"\"\n",
    "for i in n:\n",
    "    c=ord(i)\n",
    "    if 48<=c<=57:\n",
    "        b=b+i\n",
    "print(b)        "
   ]
  },
  {
   "cell_type": "code",
   "execution_count": 9,
   "id": "c54c2de1",
   "metadata": {},
   "outputs": [
    {
     "name": "stdout",
     "output_type": "stream",
     "text": [
      "adhjg# #is  # ## # jgj #\n"
     ]
    }
   ],
   "source": [
    "# From given string replace each punctuation with #.\n",
    "n='!#$%&()*+,-./:;<=>?@[\\]^_`{|}~'\n",
    "v=\"adhjg, $is  : << ! jgj ;\"\n",
    "l=\"\"\n",
    "for i in v:\n",
    "    if i in n:\n",
    "        l=l+'#'\n",
    "    else:\n",
    "        l=l+i\n",
    "print(l)       "
   ]
  }
 ],
 "metadata": {
  "kernelspec": {
   "display_name": "Python 3",
   "language": "python",
   "name": "python3"
  },
  "language_info": {
   "codemirror_mode": {
    "name": "ipython",
    "version": 3
   },
   "file_extension": ".py",
   "mimetype": "text/x-python",
   "name": "python",
   "nbconvert_exporter": "python",
   "pygments_lexer": "ipython3",
   "version": "3.8.8"
  }
 },
 "nbformat": 4,
 "nbformat_minor": 5
}
