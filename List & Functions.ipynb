{
 "cells": [
  {
   "cell_type": "code",
   "execution_count": 2,
   "id": "018e18fc",
   "metadata": {},
   "outputs": [
    {
     "name": "stdout",
     "output_type": "stream",
     "text": [
      "Dictionary is: {1: 9, 7: 0}\n"
     ]
    }
   ],
   "source": [
    "# Convert two lists into a dictionary.\n",
    "n=[1,7]\n",
    "m=[9,0,6,7]\n",
    "d={}\n",
    "for i in n:\n",
    "    for v in m:\n",
    "        d[i]=v\n",
    "        m.remove(v)\n",
    "        break\n",
    "print(\"Dictionary is:\",d)   "
   ]
  },
  {
   "cell_type": "code",
   "execution_count": 3,
   "id": "0ae396c9",
   "metadata": {},
   "outputs": [
    {
     "name": "stdout",
     "output_type": "stream",
     "text": [
      "Square of list numbers are [25, 49, 64]\n"
     ]
    }
   ],
   "source": [
    "#python function to return the squares of a list of numbers.\n",
    "def l_sq(n):\n",
    "    m=[]\n",
    "    for i in n:\n",
    "        m.append(i*i)\n",
    "    return m   \n",
    "print(\"Square of list numbers are\",l_sq([5,7,8]))"
   ]
  },
  {
   "cell_type": "code",
   "execution_count": 5,
   "id": "14742d85",
   "metadata": {},
   "outputs": [
    {
     "name": "stdout",
     "output_type": "stream",
     "text": [
      "Square root of list numbers are [4.0, 6.708203932499369, 6.0]\n"
     ]
    }
   ],
   "source": [
    "#python function to return the squareroot of a list of numbers.\n",
    "import math\n",
    "def l_sr(n):\n",
    "    m=[]\n",
    "    for i in n:\n",
    "        m.append(math.sqrt(i))\n",
    "    return m  \n",
    "print(\"Square root of list numbers are\",l_sr([16, 45, 36]))"
   ]
  },
  {
   "cell_type": "code",
   "execution_count": 6,
   "id": "20168a3b",
   "metadata": {},
   "outputs": [
    {
     "name": "stdout",
     "output_type": "stream",
     "text": [
      "Sum of even numbers of list is 60\n"
     ]
    }
   ],
   "source": [
    "#python function to add even numbers in a list.\n",
    "n=[1,2,3,4,54]\n",
    "sum=0\n",
    "for i in n:\n",
    "    if i%2==0:\n",
    "        sum=sum+i\n",
    "print(\"Sum of even numbers of list is\",sum)     "
   ]
  },
  {
   "cell_type": "code",
   "execution_count": 7,
   "id": "4a6db1e6",
   "metadata": {},
   "outputs": [
    {
     "name": "stdout",
     "output_type": "stream",
     "text": [
      "Cube of list numbers are [125, 343, 64]\n"
     ]
    }
   ],
   "source": [
    "#python function to return the cubes of a list of numbers.\n",
    "def l_cu(n):\n",
    "    m=[]\n",
    "    for i in n:\n",
    "        m.append(i*i*i)\n",
    "    return m   \n",
    "print(\"Cube of list numbers are\",l_cu([5,7,4]))"
   ]
  }
 ],
 "metadata": {
  "kernelspec": {
   "display_name": "Python 3",
   "language": "python",
   "name": "python3"
  },
  "language_info": {
   "codemirror_mode": {
    "name": "ipython",
    "version": 3
   },
   "file_extension": ".py",
   "mimetype": "text/x-python",
   "name": "python",
   "nbconvert_exporter": "python",
   "pygments_lexer": "ipython3",
   "version": "3.8.8"
  }
 },
 "nbformat": 4,
 "nbformat_minor": 5
}
