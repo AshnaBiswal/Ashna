{
 "cells": [
  {
   "cell_type": "code",
   "execution_count": 2,
   "id": "843b09ce",
   "metadata": {},
   "outputs": [
    {
     "data": {
      "text/plain": [
       "True"
      ]
     },
     "execution_count": 2,
     "metadata": {},
     "output_type": "execute_result"
    }
   ],
   "source": [
    "#Given an array of ints, return True if 6 appears as either the first or last element in the array. \n",
    "#The array will be length 1 or more.\n",
    "\n",
    "def first_last6(nums):\n",
    "    if len(nums)>=1:\n",
    "        if nums[0]==6 or nums[-1]==6:\n",
    "            return True\n",
    "        else:\n",
    "            return False\n",
    "    else:\n",
    "        return \"short string\"\n",
    "\n",
    "first_last6([6,13,6,1,2,3])   "
   ]
  },
  {
   "cell_type": "code",
   "execution_count": 7,
   "id": "dce4578f",
   "metadata": {},
   "outputs": [
    {
     "data": {
      "text/plain": [
       "False"
      ]
     },
     "execution_count": 7,
     "metadata": {},
     "output_type": "execute_result"
    }
   ],
   "source": [
    "#Given an array of ints, return True if the array is length 1 or more, and the first element and the last element are equal.\n",
    "\n",
    "def same_first_last(nums):\n",
    "    if len(nums)>=1:\n",
    "        if nums[0]==nums[-1]:\n",
    "            return True\n",
    "        else:\n",
    "            return False\n",
    "    else:\n",
    "        return False\n",
    "\n",
    "same_first_last([6,13,6,1,2,3])   "
   ]
  },
  {
   "cell_type": "code",
   "execution_count": 8,
   "id": "6b170ad1",
   "metadata": {},
   "outputs": [
    {
     "data": {
      "text/plain": [
       "[3, 1, 4]"
      ]
     },
     "execution_count": 8,
     "metadata": {},
     "output_type": "execute_result"
    }
   ],
   "source": [
    "#Return an int array length 3 containing the first 3 digits of pi, [3, 1, 4].\n",
    "\n",
    "def make_pi():\n",
    "    return [3,1,4]\n",
    "  \n",
    "make_pi()"
   ]
  },
  {
   "cell_type": "code",
   "execution_count": 11,
   "id": "4b12f908",
   "metadata": {},
   "outputs": [
    {
     "data": {
      "text/plain": [
       "True"
      ]
     },
     "execution_count": 11,
     "metadata": {},
     "output_type": "execute_result"
    }
   ],
   "source": [
    "#Given 2 arrays of ints, a and b, return True if they have the same first element or they have the same last element.\n",
    "#Both arrays will be length 1 or more.\n",
    "\n",
    "def common_end(a,b):\n",
    "    if len(a)>=1 and len(b)>=1:\n",
    "        if a[0]==b[0] or a[-1]==b[-1]:\n",
    "            return True\n",
    "        else:\n",
    "            return False\n",
    "    else:\n",
    "        return False\n",
    "\n",
    "common_end([1,2,4],[1,3])"
   ]
  },
  {
   "cell_type": "code",
   "execution_count": 12,
   "id": "703ed587",
   "metadata": {},
   "outputs": [
    {
     "data": {
      "text/plain": [
       "18"
      ]
     },
     "execution_count": 12,
     "metadata": {},
     "output_type": "execute_result"
    }
   ],
   "source": [
    "#Given an array of ints length 3, return the sum of all the elements.\n",
    "\n",
    "def sum3(nums):\n",
    "    a=0\n",
    "    for i in range(len(nums)):\n",
    "        a=a+nums[i]\n",
    "    return a\n",
    "\n",
    "sum3([5,11,2]) "
   ]
  },
  {
   "cell_type": "code",
   "execution_count": 16,
   "id": "3ce71c15",
   "metadata": {},
   "outputs": [
    {
     "data": {
      "text/plain": [
       "[11, 9, 5]"
      ]
     },
     "execution_count": 16,
     "metadata": {},
     "output_type": "execute_result"
    }
   ],
   "source": [
    "#Given an array of ints length 3, return an array with the elements \"rotated left\" so {1, 2, 3} yields {2, 3, 1}.\n",
    "\n",
    "def rotate_left3(nums):\n",
    "    if len(nums)==3:\n",
    "        return [nums[1],nums[2],nums[0]]\n",
    "    \n",
    "rotate_left3([5,11,9])    "
   ]
  },
  {
   "cell_type": "code",
   "execution_count": 18,
   "id": "e19e6079",
   "metadata": {},
   "outputs": [
    {
     "data": {
      "text/plain": [
       "[5, 6, 0]"
      ]
     },
     "execution_count": 18,
     "metadata": {},
     "output_type": "execute_result"
    }
   ],
   "source": [
    "#Given an array of ints length 3, return a new array with the elements in reverse order, so {1, 2, 3} becomes {3, 2, 1}.\n",
    "\n",
    "def reverse3(nums):\n",
    "    if len(nums)==3:\n",
    "        return [nums[2],nums[1],nums[0]]\n",
    "\n",
    "reverse3([0,6,5])    "
   ]
  },
  {
   "cell_type": "code",
   "execution_count": 19,
   "id": "2ac487a7",
   "metadata": {},
   "outputs": [
    {
     "data": {
      "text/plain": [
       "[3, 3, 3]"
      ]
     },
     "execution_count": 19,
     "metadata": {},
     "output_type": "execute_result"
    }
   ],
   "source": [
    "#Given an array of ints length 3, figure out which is larger, the first or last element in the array, \n",
    "#and set all the other elements to be that value. Return the changed array.\n",
    "\n",
    "def max_end3(nums):\n",
    "    if len(nums)==3:\n",
    "        a=nums[0]\n",
    "        b=nums[-1]\n",
    "        c=max(a,b)\n",
    "        return [c,c,c]\n",
    "\n",
    "max_end3([2,11,3]) "
   ]
  },
  {
   "cell_type": "code",
   "execution_count": 20,
   "id": "a1d4ce51",
   "metadata": {},
   "outputs": [
    {
     "data": {
      "text/plain": [
       "3"
      ]
     },
     "execution_count": 20,
     "metadata": {},
     "output_type": "execute_result"
    }
   ],
   "source": [
    "#Given an array of ints, return the sum of the first 2 elements in the array.\n",
    "#If the array length is less than 2, just sum up the elements that exist, returning 0 if the array is length 0.\n",
    "\n",
    "def sum2(n):\n",
    "    return sum(n[:2])\n",
    "\n",
    "sum2([1, 2, 3]) "
   ]
  },
  {
   "cell_type": "code",
   "execution_count": 21,
   "id": "c334d5ca",
   "metadata": {},
   "outputs": [
    {
     "data": {
      "text/plain": [
       "[7, 8]"
      ]
     },
     "execution_count": 21,
     "metadata": {},
     "output_type": "execute_result"
    }
   ],
   "source": [
    "#Given 2 int arrays, a and b, each length 3, return a new array length 2 containing their middle elements.\n",
    "\n",
    "def middle_way(a, b):\n",
    "    return [a[1],b[1]]\n",
    "\n",
    "middle_way([7,7,7], [3,8,0])"
   ]
  },
  {
   "cell_type": "code",
   "execution_count": 22,
   "id": "a7a884e6",
   "metadata": {},
   "outputs": [
    {
     "data": {
      "text/plain": [
       "[1, 3]"
      ]
     },
     "execution_count": 22,
     "metadata": {},
     "output_type": "execute_result"
    }
   ],
   "source": [
    "#Given an array of ints, return a new array length 2 containing the first and last elements from the original array.\n",
    "#The original array will be length 1 or more.\n",
    "\n",
    "def make_ends(nums):\n",
    "    if len(nums)>=1:\n",
    "        return [nums[0],nums[-1]]\n",
    "\n",
    "make_ends([1,2,2,2,2,2,2,3])"
   ]
  },
  {
   "cell_type": "code",
   "execution_count": 23,
   "id": "0791714e",
   "metadata": {},
   "outputs": [
    {
     "data": {
      "text/plain": [
       "True"
      ]
     },
     "execution_count": 23,
     "metadata": {},
     "output_type": "execute_result"
    }
   ],
   "source": [
    "#Given an int array length 2, return True if it contains a 2 or a 3.\n",
    "\n",
    "def has23(nums):\n",
    "    if 2 in nums or 3 in nums:\n",
    "        return True\n",
    "    else:\n",
    "        return False\n",
    "\n",
    "has23([4,3])    "
   ]
  },
  {
   "cell_type": "code",
   "execution_count": 25,
   "id": "a10d130b",
   "metadata": {},
   "outputs": [
    {
     "data": {
      "text/plain": [
       "3"
      ]
     },
     "execution_count": 25,
     "metadata": {},
     "output_type": "execute_result"
    }
   ],
   "source": [
    "#Return the number of even ints in the given array.\n",
    "\n",
    "def count_evens(nums):\n",
    "    count=0\n",
    "    for i in range(len(nums)):\n",
    "        if nums[i]%2==0:\n",
    "            count=count+1\n",
    "    return count\n",
    "\n",
    "count_evens([2,1,2,3,4])"
   ]
  },
  {
   "cell_type": "code",
   "execution_count": 26,
   "id": "e3e22481",
   "metadata": {},
   "outputs": [
    {
     "data": {
      "text/plain": [
       "7"
      ]
     },
     "execution_count": 26,
     "metadata": {},
     "output_type": "execute_result"
    }
   ],
   "source": [
    "#Given an array length 1 or more of ints, return the difference between the largest and smallest values in the array.\n",
    "\n",
    "def big_diff(nums):\n",
    "    return max(nums)-min(nums)\n",
    "\n",
    "big_diff([10,3,5,6])"
   ]
  },
  {
   "cell_type": "code",
   "execution_count": null,
   "id": "32a3befb",
   "metadata": {},
   "outputs": [],
   "source": []
  }
 ],
 "metadata": {
  "kernelspec": {
   "display_name": "Python 3",
   "language": "python",
   "name": "python3"
  },
  "language_info": {
   "codemirror_mode": {
    "name": "ipython",
    "version": 3
   },
   "file_extension": ".py",
   "mimetype": "text/x-python",
   "name": "python",
   "nbconvert_exporter": "python",
   "pygments_lexer": "ipython3",
   "version": "3.8.8"
  }
 },
 "nbformat": 4,
 "nbformat_minor": 5
}
