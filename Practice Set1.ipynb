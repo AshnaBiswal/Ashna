{
 "cells": [
  {
   "cell_type": "code",
   "execution_count": 2,
   "id": "872cc953",
   "metadata": {},
   "outputs": [
    {
     "name": "stdout",
     "output_type": "stream",
     "text": [
      "5\n",
      "3.106855\n"
     ]
    }
   ],
   "source": [
    "#Python Program to Convert Kilometers to Miles.\n",
    "n=int(input(\"\"))\n",
    "miles=n*0.621371 \n",
    "print(miles)"
   ]
  },
  {
   "cell_type": "code",
   "execution_count": 3,
   "id": "6e67c675",
   "metadata": {},
   "outputs": [
    {
     "name": "stdout",
     "output_type": "stream",
     "text": [
      "7\n",
      "44.6\n"
     ]
    }
   ],
   "source": [
    "#Python Program to Convert Celsius To Fahrenheit.\n",
    "n=int(input(\"\"))\n",
    "fahrenheit=(n*(9/5))+32\n",
    "print(fahrenheit)"
   ]
  },
  {
   "cell_type": "code",
   "execution_count": 7,
   "id": "f383dfe7",
   "metadata": {},
   "outputs": [
    {
     "name": "stdout",
     "output_type": "stream",
     "text": [
      "-4\n",
      "-ve\n"
     ]
    }
   ],
   "source": [
    "#Python Program to Check if a Number is Positive, Negative or 0.\n",
    "n=int(input(\"\"))\n",
    "if n>0:\n",
    "    print(\"+ve\")\n",
    "elif n<0:\n",
    "    print(\"-ve\")\n",
    "else:\n",
    "    print(\"Its 0\")"
   ]
  },
  {
   "cell_type": "code",
   "execution_count": 8,
   "id": "6e99e4f6",
   "metadata": {},
   "outputs": [
    {
     "name": "stdout",
     "output_type": "stream",
     "text": [
      "5\n",
      "odd\n"
     ]
    }
   ],
   "source": [
    "#Python Program to Check if a Number is Odd or Even.\n",
    "n=int(input(\"\"))\n",
    "if n%2==0:\n",
    "    print(\"even\")\n",
    "else:\n",
    "    print(\"odd\")"
   ]
  },
  {
   "cell_type": "code",
   "execution_count": 11,
   "id": "f507d11f",
   "metadata": {},
   "outputs": [
    {
     "name": "stdout",
     "output_type": "stream",
     "text": [
      "2016\n",
      "leap year\n"
     ]
    }
   ],
   "source": [
    "#Python Program to Check Leap Year.\n",
    "n=int(input(\"\"))\n",
    "if ((n%400==0 or n%100!=0) and (n%4==0)):\n",
    "    print(\"leap year\")\n",
    "else:\n",
    "    print(\"not leap year\")"
   ]
  },
  {
   "cell_type": "code",
   "execution_count": 14,
   "id": "d69cd609",
   "metadata": {},
   "outputs": [
    {
     "name": "stdout",
     "output_type": "stream",
     "text": [
      "Enter a three value: 5 7 3\n",
      "7  is larger\n"
     ]
    }
   ],
   "source": [
    "#Python Program to Find the Largest Among Three Numbers.\n",
    "x, y,z = input(\"Enter a three value: \").split()\n",
    "if x>y and x>z:\n",
    "    print(x,\" is larger\")\n",
    "elif y>z and y>x:\n",
    "    print(y,\" is larger\")\n",
    "else:\n",
    "    print(z,\" is larger\")"
   ]
  },
  {
   "cell_type": "code",
   "execution_count": 17,
   "id": "2087ffa0",
   "metadata": {},
   "outputs": [
    {
     "name": "stdout",
     "output_type": "stream",
     "text": [
      "6\n",
      "not prime\n"
     ]
    }
   ],
   "source": [
    "#Write a Python Program to check if a number is prime or not.\n",
    "x=int(input(\"\"))\n",
    "n=int(x/2)\n",
    "flag=0\n",
    "for i in range(2,n):\n",
    "    if x%i==0:\n",
    "        flag=1\n",
    "        break\n",
    "if flag==1:\n",
    "    print(\"not prime\")\n",
    "else:\n",
    "    print(\"prime\")"
   ]
  },
  {
   "cell_type": "code",
   "execution_count": 21,
   "id": "5be14956",
   "metadata": {},
   "outputs": [
    {
     "name": "stdout",
     "output_type": "stream",
     "text": [
      "Enter lower range: 50\n",
      "Enter upper range: 100\n",
      "53 59 61 67 71 73 79 83 89 97 "
     ]
    }
   ],
   "source": [
    "#Python program to display all the prime numbers within an interval.\n",
    "n = int(input(\"Enter lower range: \"))  \n",
    "m = int(input(\"Enter upper range: \"))  \n",
    "for i in range(n,m+1):\n",
    "    flag=0\n",
    "    for j in range(2,i):\n",
    "        if i%j==0:\n",
    "            flag=1\n",
    "            break\n",
    "    if flag==0:\n",
    "        print(i,end=' ')       "
   ]
  },
  {
   "cell_type": "code",
   "execution_count": 22,
   "id": "f3fb66be",
   "metadata": {},
   "outputs": [
    {
     "name": "stdout",
     "output_type": "stream",
     "text": [
      "10\n",
      "3628800\n"
     ]
    }
   ],
   "source": [
    "#Python program to find the factorial of a number.\n",
    "n=int(input(\"\"))\n",
    "fact=1\n",
    "while n>1:\n",
    "    fact=fact*n\n",
    "    n=n-1\n",
    "print(fact)    "
   ]
  },
  {
   "cell_type": "code",
   "execution_count": 23,
   "id": "a49f45da",
   "metadata": {},
   "outputs": [
    {
     "name": "stdout",
     "output_type": "stream",
     "text": [
      "5\n",
      "5 * 0 = 0\n",
      "5 * 1 = 5\n",
      "5 * 2 = 10\n",
      "5 * 3 = 15\n",
      "5 * 4 = 20\n",
      "5 * 5 = 25\n",
      "5 * 6 = 30\n",
      "5 * 7 = 35\n",
      "5 * 8 = 40\n",
      "5 * 9 = 45\n",
      "5 * 10 = 50\n"
     ]
    }
   ],
   "source": [
    "#Python Program to Display the multiplication Table.\n",
    "n=int(input(\"\"))\n",
    "for i in range(11):\n",
    "    print(n,\"*\",i,\"=\",n*i)"
   ]
  }
 ],
 "metadata": {
  "kernelspec": {
   "display_name": "Python 3",
   "language": "python",
   "name": "python3"
  },
  "language_info": {
   "codemirror_mode": {
    "name": "ipython",
    "version": 3
   },
   "file_extension": ".py",
   "mimetype": "text/x-python",
   "name": "python",
   "nbconvert_exporter": "python",
   "pygments_lexer": "ipython3",
   "version": "3.8.8"
  }
 },
 "nbformat": 4,
 "nbformat_minor": 5
}
