{
 "cells": [
  {
   "cell_type": "code",
   "execution_count": 3,
   "id": "69776c25",
   "metadata": {},
   "outputs": [
    {
     "name": "stdout",
     "output_type": "stream",
     "text": [
      "Enter 1st Number: 65\n",
      "Enter 2nd Number: 20\n",
      "HCF = 5\n"
     ]
    }
   ],
   "source": [
    "#Python Program to Find HCF or GCD.\n",
    "n=int(input(\"Enter 1st Number: \"))\n",
    "m=int(input(\"Enter 2nd Number: \"))\n",
    "k=min(n,m)\n",
    "l=[]\n",
    "for i in range(1,k+1):\n",
    "    if n%i==0 and m%i==0:\n",
    "        l.append(i)\n",
    "print(\"HCF =\",max(l))"
   ]
  },
  {
   "cell_type": "code",
   "execution_count": 4,
   "id": "97983b10",
   "metadata": {},
   "outputs": [
    {
     "name": "stdout",
     "output_type": "stream",
     "text": [
      "Enter 1st Number: 92\n",
      "Enter 2nd Number: 100\n",
      "HCF = 4\n"
     ]
    }
   ],
   "source": [
    "#Write a python function to find HCf or GCD and return the value.\n",
    "def hcf(m,n):\n",
    "    k=min(n,m)\n",
    "    l=[]\n",
    "    for i in range(1,k+1):\n",
    "        if n%i==0 and m%i==0:\n",
    "            l.append(i)\n",
    "    return print(\"HCF =\",max(l))\n",
    "n=int(input(\"Enter 1st Number: \"))\n",
    "m=int(input(\"Enter 2nd Number: \"))    \n",
    "hcf(m,n)"
   ]
  },
  {
   "cell_type": "code",
   "execution_count": 7,
   "id": "82620c44",
   "metadata": {},
   "outputs": [
    {
     "name": "stdout",
     "output_type": "stream",
     "text": [
      "Enter 1st Number: 60\n",
      "Enter 2nd Number: 48\n",
      "HCF = 12\n"
     ]
    }
   ],
   "source": [
    "#Write a python function to find HCf or GCD and return the value using euclidian Algorithm\n",
    "def gcd(a,b):\n",
    "    while b>0:\n",
    "            temp=a\n",
    "            a=b\n",
    "            b=temp\n",
    "            b=b%a\n",
    "    return print(\"HCF =\",a)   \n",
    "a=int(input(\"Enter 1st Number: \"))\n",
    "b=int(input(\"Enter 2nd Number: \"))    \n",
    "gcd(a,b)"
   ]
  },
  {
   "cell_type": "code",
   "execution_count": 8,
   "id": "b92f2a76",
   "metadata": {},
   "outputs": [
    {
     "name": "stdout",
     "output_type": "stream",
     "text": [
      "Enter 1st Number: 72\n",
      "Enter 2nd Number: 12\n",
      "HCF = 12\n"
     ]
    }
   ],
   "source": [
    "#Write a python program to find HCf or GCD using euclidian Algorithm.\n",
    "a=int(input(\"Enter 1st Number: \"))\n",
    "b=int(input(\"Enter 2nd Number: \"))  \n",
    "while b>0:\n",
    "            temp=a\n",
    "            a=b\n",
    "            b=temp\n",
    "            b=b%a\n",
    "print(\"HCF =\",a) "
   ]
  },
  {
   "cell_type": "code",
   "execution_count": 10,
   "id": "73dfc19f",
   "metadata": {},
   "outputs": [
    {
     "name": "stdout",
     "output_type": "stream",
     "text": [
      "Enter 1st Number: 6\n",
      "Enter 2nd Number: 10\n",
      "LCM of 6 and 10 is 30\n"
     ]
    }
   ],
   "source": [
    "#Python Program to Find LCM.\n",
    "x=int(input(\"Enter 1st Number: \"))\n",
    "y=int(input(\"Enter 2nd Number: \"))  \n",
    "z=max(x,y)\n",
    "temp=z\n",
    "while True:\n",
    "    if z%x==0 and z%y==0:\n",
    "        lcm=z\n",
    "        break\n",
    "    else:\n",
    "        z=z+temp\n",
    "print(\"LCM of\",x,\"and\",y,\"is\",lcm)    "
   ]
  },
  {
   "cell_type": "code",
   "execution_count": 11,
   "id": "021c083a",
   "metadata": {},
   "outputs": [
    {
     "name": "stdout",
     "output_type": "stream",
     "text": [
      "Enter 1st Number: 24\n",
      "Enter 2nd Number: 36\n",
      "LCM of 24 and 36 is 72\n"
     ]
    }
   ],
   "source": [
    "#write a Python function to Find LCM and return the value.\n",
    "def lcm(x,y):\n",
    "    z=max(x,y)\n",
    "    temp=z\n",
    "    while True:\n",
    "        if z%x==0 and z%y==0:\n",
    "            lcm=z\n",
    "            break\n",
    "        else:\n",
    "            z=z+temp\n",
    "    return print(\"LCM of\",x,\"and\",y,\"is\",lcm)    \n",
    "x=int(input(\"Enter 1st Number: \"))\n",
    "y=int(input(\"Enter 2nd Number: \"))  \n",
    "lcm(x,y)"
   ]
  },
  {
   "cell_type": "code",
   "execution_count": 12,
   "id": "a65163b9",
   "metadata": {},
   "outputs": [
    {
     "name": "stdout",
     "output_type": "stream",
     "text": [
      "Enter 1st Number: 12\n",
      "Enter 2nd Number: 8\n",
      "LCM of 12 and 8 is 24\n"
     ]
    }
   ],
   "source": [
    "#Python Program to Compute LCM Using GCD.\n",
    "a=int(input(\"Enter 1st Number: \"))\n",
    "b=int(input(\"Enter 2nd Number: \")) \n",
    "x=a\n",
    "y=b\n",
    "while b>0:\n",
    "    temp=a\n",
    "    a=b\n",
    "    b=temp\n",
    "    b=b%a\n",
    "lcm=int((x*y)/a)\n",
    "print(\"LCM of\",x,\"and\",y,\"is\",lcm)    "
   ]
  },
  {
   "cell_type": "code",
   "execution_count": 14,
   "id": "02ffdd15",
   "metadata": {},
   "outputs": [
    {
     "name": "stdout",
     "output_type": "stream",
     "text": [
      "Enter a Number: 320\n",
      "Factors of 320 are [1, 2, 4, 5, 8, 10, 16, 20, 32, 40, 64, 80, 160, 320]\n"
     ]
    }
   ],
   "source": [
    "#Python function to Find the Factors of a Number.\n",
    "n=int(input(\"Enter a Number: \"))\n",
    "l=[]\n",
    "for i in range(1,n+1):\n",
    "    if n%i==0:\n",
    "        l.append(i)\n",
    "print(\"Factors of\",n,\"are\",l)        "
   ]
  },
  {
   "cell_type": "code",
   "execution_count": 17,
   "id": "1db90ee9",
   "metadata": {},
   "outputs": [
    {
     "name": "stdout",
     "output_type": "stream",
     "text": [
      "Select operation.\n",
      "1.Add\n",
      "2.Subtract\n",
      "3.Multiply\n",
      "4.Divide\n",
      "5.To Exit\n",
      "Enter your choice: 2\n",
      "Enter first number: 100\n",
      "Enter second number: 11\n",
      "100.0 - 11.0 = 89.0\n"
     ]
    }
   ],
   "source": [
    "#Python Program to Make a Simple Calculator.\n",
    "def add(a,b):\n",
    "    return a+b\n",
    "def sub(a,b):\n",
    "    return a-b\n",
    "def mul(a,b):\n",
    "    return a*b\n",
    "def div(a,b):\n",
    "    return a/b\n",
    "\n",
    "print(\"Select operation.\\n1.Add\\n2.Subtract\\n3.Multiply\\n4.Divide\\n5.To Exit\")\n",
    "while True:\n",
    "    n=int(input(\"Enter your choice: \"))\n",
    "    if n==1 or n==2 or n==3 or n==4:\n",
    "        a = float(input(\"Enter first number: \"))\n",
    "        b = float(input(\"Enter second number: \"))\n",
    "        if n==1:\n",
    "            print(a,\"+\",b,\"=\",add(a,b))\n",
    "        elif n==2:\n",
    "            print(a,\"-\",b,\"=\",sub(a,b))\n",
    "        elif n==3:\n",
    "            print(a,\"*\",b,\"=\",mul(a,b))\n",
    "        elif n==4:\n",
    "            print(a,\"/\",b,\"=\",div(a,b))\n",
    "        break\n",
    "    else:\n",
    "        print(\"INVALID CHOICE\")"
   ]
  },
  {
   "cell_type": "code",
   "execution_count": 20,
   "id": "f6210803",
   "metadata": {},
   "outputs": [
    {
     "name": "stdout",
     "output_type": "stream",
     "text": [
      "7\n",
      "0 1 1 2 3 5 8 "
     ]
    }
   ],
   "source": [
    "#Python Program to Display Fibonacci Sequence Using Recursion.\n",
    "def recursion(n):\n",
    "    if n<=1:\n",
    "        return n\n",
    "    else:\n",
    "        return(recursion(n-1) + recursion(n-2))\n",
    "m=int(input(\"\"))\n",
    "for i in range(m):\n",
    "    print(recursion(i),end=\" \")       "
   ]
  }
 ],
 "metadata": {
  "kernelspec": {
   "display_name": "Python 3",
   "language": "python",
   "name": "python3"
  },
  "language_info": {
   "codemirror_mode": {
    "name": "ipython",
    "version": 3
   },
   "file_extension": ".py",
   "mimetype": "text/x-python",
   "name": "python",
   "nbconvert_exporter": "python",
   "pygments_lexer": "ipython3",
   "version": "3.8.8"
  }
 },
 "nbformat": 4,
 "nbformat_minor": 5
}
