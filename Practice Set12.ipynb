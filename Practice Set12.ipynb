{
 "cells": [
  {
   "cell_type": "code",
   "execution_count": 2,
   "id": "fbc45912",
   "metadata": {},
   "outputs": [
    {
     "name": "stdout",
     "output_type": "stream",
     "text": [
      "After converting decimal number( 127 ) into octal:\n",
      "771\n"
     ]
    }
   ],
   "source": [
    "# Convert decimal number to octal.\n",
    "n=127\n",
    "s=\"\"\n",
    "print(\"After converting decimal number(\",n,\") into octal:\")    \n",
    "while n>0:\n",
    "    r=n%8\n",
    "    s=s+str(r)\n",
    "    n=n//8\n",
    "print(s)    "
   ]
  },
  {
   "cell_type": "code",
   "execution_count": 3,
   "id": "3873dc94",
   "metadata": {},
   "outputs": [
    {
     "name": "stdout",
     "output_type": "stream",
     "text": [
      "9\n"
     ]
    }
   ],
   "source": [
    "# Find the day of week of a given date.\n",
    "import datetime\n",
    "d=datetime.date(2021, 8, 9)\n",
    "print(d.day)"
   ]
  },
  {
   "cell_type": "code",
   "execution_count": 4,
   "id": "1c1e1260",
   "metadata": {},
   "outputs": [
    {
     "name": "stdout",
     "output_type": "stream",
     "text": [
      "Sum = 55\n"
     ]
    }
   ],
   "source": [
    "# Write a recursive function to calculate the sum of numbers from 0 to 10.\n",
    "def s(n):\n",
    "    if n==0:\n",
    "        return 0\n",
    "    else:\n",
    "        return n+s(n-1)\n",
    "print(\"Sum =\",s(10))"
   ]
  },
  {
   "cell_type": "code",
   "execution_count": 5,
   "id": "00cb8339",
   "metadata": {},
   "outputs": [
    {
     "name": "stdout",
     "output_type": "stream",
     "text": [
      "False\n",
      "True\n",
      "False\n",
      "True\n"
     ]
    }
   ],
   "source": [
    "#python program to compare strings.\n",
    "n=\"hello\"\n",
    "m=\"jello\"\n",
    "print(n==m)\n",
    "print(n!=m)\n",
    "print(n>m)\n",
    "print(n<m)"
   ]
  },
  {
   "cell_type": "code",
   "execution_count": 6,
   "id": "102db31f",
   "metadata": {},
   "outputs": [
    {
     "name": "stdout",
     "output_type": "stream",
     "text": [
      "After concatenating 2 Strings: Ashna Biswal\n"
     ]
    }
   ],
   "source": [
    "#Python Program to Concatenate Strings.\n",
    "n1=\"Ashna\"\n",
    "n2=\" Biswal\"\n",
    "print(\"After concatenating 2 Strings:\",n1+n2)"
   ]
  }
 ],
 "metadata": {
  "kernelspec": {
   "display_name": "Python 3",
   "language": "python",
   "name": "python3"
  },
  "language_info": {
   "codemirror_mode": {
    "name": "ipython",
    "version": 3
   },
   "file_extension": ".py",
   "mimetype": "text/x-python",
   "name": "python",
   "nbconvert_exporter": "python",
   "pygments_lexer": "ipython3",
   "version": "3.8.8"
  }
 },
 "nbformat": 4,
 "nbformat_minor": 5
}
