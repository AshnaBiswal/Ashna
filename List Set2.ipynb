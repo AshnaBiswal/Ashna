{
 "cells": [
  {
   "cell_type": "code",
   "execution_count": 2,
   "id": "810d0b6f",
   "metadata": {},
   "outputs": [
    {
     "data": {
      "text/plain": [
       "{1: 2, 8: 2, 9: 2, 6: 1, 3: 2}"
      ]
     },
     "execution_count": 2,
     "metadata": {},
     "output_type": "execute_result"
    }
   ],
   "source": [
    "#Given a list iterate it and count the occurrence of each element and create a dictionary to show the count of each element.\n",
    "l=[1,8,1,9,6,8,9,3,3]\n",
    "d={x:sum(1 for i in l if x==i)for x in l}\n",
    "d"
   ]
  },
  {
   "cell_type": "code",
   "execution_count": 3,
   "id": "81e93a68",
   "metadata": {},
   "outputs": [
    {
     "name": "stdout",
     "output_type": "stream",
     "text": [
      "{(6, 3), (4, 1), (5, 2)}\n"
     ]
    }
   ],
   "source": [
    "# Given a two list of equal size create a set such that it shows the element from both lists in the pair.\n",
    "n=[1,2,3]\n",
    "m=[4,5,6]\n",
    "k=zip(m,n)\n",
    "print(set(k))"
   ]
  },
  {
   "cell_type": "code",
   "execution_count": 5,
   "id": "1fbb31a2",
   "metadata": {},
   "outputs": [
    {
     "data": {
      "text/plain": [
       "[3, 8]"
      ]
     },
     "execution_count": 5,
     "metadata": {},
     "output_type": "execute_result"
    }
   ],
   "source": [
    "# Given a dictionary get all values from the dictionary and add it in a list but don’t add duplicates.\n",
    "d={\"a\":3,\"b\":8,\"c\":3}\n",
    "l=[]\n",
    "for i in d:\n",
    "    if d[i] not in l:\n",
    "        l.append(d[i])\n",
    "l        "
   ]
  },
  {
   "cell_type": "code",
   "execution_count": 7,
   "id": "e6f9f469",
   "metadata": {},
   "outputs": [
    {
     "name": "stdout",
     "output_type": "stream",
     "text": [
      "[10, 12, 14, 16, 18, 20, 22, 24, 26, 28]\n"
     ]
    }
   ],
   "source": [
    "# Generate a Python list of all the even numbers between two given numbers.\n",
    "n1=10\n",
    "n2=30\n",
    "k=[]\n",
    "for i in range(n1,n2):\n",
    "    if i%2==0:\n",
    "        k.append(i)\n",
    "print(k)        "
   ]
  },
  {
   "cell_type": "code",
   "execution_count": 8,
   "id": "2a6b1a56",
   "metadata": {},
   "outputs": [
    {
     "name": "stdout",
     "output_type": "stream",
     "text": [
      "180\n"
     ]
    }
   ],
   "source": [
    "# Return the largest item from the given list.\n",
    "n=[10,14,1,180,20,22]\n",
    "print(max(n))"
   ]
  }
 ],
 "metadata": {
  "kernelspec": {
   "display_name": "Python 3",
   "language": "python",
   "name": "python3"
  },
  "language_info": {
   "codemirror_mode": {
    "name": "ipython",
    "version": 3
   },
   "file_extension": ".py",
   "mimetype": "text/x-python",
   "name": "python",
   "nbconvert_exporter": "python",
   "pygments_lexer": "ipython3",
   "version": "3.8.8"
  }
 },
 "nbformat": 4,
 "nbformat_minor": 5
}
